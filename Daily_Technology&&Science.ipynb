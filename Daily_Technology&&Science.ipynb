{
  "nbformat": 4,
  "nbformat_minor": 0,
  "metadata": {
    "colab": {
      "name": "Daily-Technology&&Science.ipynb",
      "provenance": [],
      "collapsed_sections": [],
      "authorship_tag": "ABX9TyOQ4N46OsKiNGuDDWXGmgMF",
      "include_colab_link": true
    },
    "kernelspec": {
      "name": "python3",
      "display_name": "Python 3"
    },
    "language_info": {
      "name": "python"
    }
  },
  "cells": [
    {
      "cell_type": "markdown",
      "metadata": {
        "id": "view-in-github",
        "colab_type": "text"
      },
      "source": [
        "<a href=\"https://colab.research.google.com/github/doukansurel/Kod/blob/main/Daily_Technology%26%26Science.ipynb\" target=\"_parent\"><img src=\"https://colab.research.google.com/assets/colab-badge.svg\" alt=\"Open In Colab\"/></a>"
      ]
    },
    {
      "cell_type": "code",
      "execution_count": 160,
      "metadata": {
        "id": "cFto8xqfESaX"
      },
      "outputs": [],
      "source": [
        "import os\n",
        "import bs4\n",
        "import requests\n",
        "from bs4 import BeautifulSoup\n",
        "import pandas as pd\n",
        "import numpy as np\n",
        "import os\n",
        "import time\n",
        "import urllib.request\n",
        "import re\n",
        "import urllib3\n",
        "from pandas import DataFrame\n",
        "import csv\n",
        "import datetime\n",
        "from datetime import datetime, timedelta ,date"
      ]
    },
    {
      "cell_type": "code",
      "source": [
        "technology_link = []\n",
        "science_link = []"
      ],
      "metadata": {
        "id": "xhRjaJJaEmPi"
      },
      "execution_count": 161,
      "outputs": []
    },
    {
      "cell_type": "code",
      "source": [
        "def date_creator():\n",
        "  for i in range(1,234):\n",
        "    lnk = \"https://www.dailysabah.com/search?query=Technology&qlimit=by_fifty&pgno={}\".format(str(i))\n",
        "    technology_link.append(lnk)\n",
        "\n",
        "  for i in range(1,170):\n",
        "    lnk = \"https://www.dailysabah.com/search?qsubsection=science&pgno={}\".format(str(i))\n",
        "    science_link.append(lnk)"
      ],
      "metadata": {
        "id": "5cQEDAMwEsqc"
      },
      "execution_count": 162,
      "outputs": []
    },
    {
      "cell_type": "code",
      "source": [
        "date_creator()"
      ],
      "metadata": {
        "id": "GWHbqDdIGuhS"
      },
      "execution_count": 163,
      "outputs": []
    },
    {
      "cell_type": "code",
      "source": [
        "print(technology_link) #11613 tane haber var\n",
        "print(science_link) #1684 tane haber var"
      ],
      "metadata": {
        "colab": {
          "base_uri": "https://localhost:8080/"
        },
        "id": "sEZTUHPHF8zF",
        "outputId": "b939d47d-d219-46dc-86c4-648526866ddc"
      },
      "execution_count": 164,
      "outputs": [
        {
          "output_type": "stream",
          "name": "stdout",
          "text": [
            "['https://www.dailysabah.com/search?query=Technology&qlimit=by_fifty&pgno=1', 'https://www.dailysabah.com/search?query=Technology&qlimit=by_fifty&pgno=2', 'https://www.dailysabah.com/search?query=Technology&qlimit=by_fifty&pgno=3', 'https://www.dailysabah.com/search?query=Technology&qlimit=by_fifty&pgno=4', 'https://www.dailysabah.com/search?query=Technology&qlimit=by_fifty&pgno=5', 'https://www.dailysabah.com/search?query=Technology&qlimit=by_fifty&pgno=6', 'https://www.dailysabah.com/search?query=Technology&qlimit=by_fifty&pgno=7', 'https://www.dailysabah.com/search?query=Technology&qlimit=by_fifty&pgno=8', 'https://www.dailysabah.com/search?query=Technology&qlimit=by_fifty&pgno=9', 'https://www.dailysabah.com/search?query=Technology&qlimit=by_fifty&pgno=10', 'https://www.dailysabah.com/search?query=Technology&qlimit=by_fifty&pgno=11', 'https://www.dailysabah.com/search?query=Technology&qlimit=by_fifty&pgno=12', 'https://www.dailysabah.com/search?query=Technology&qlimit=by_fifty&pgno=13', 'https://www.dailysabah.com/search?query=Technology&qlimit=by_fifty&pgno=14', 'https://www.dailysabah.com/search?query=Technology&qlimit=by_fifty&pgno=15', 'https://www.dailysabah.com/search?query=Technology&qlimit=by_fifty&pgno=16', 'https://www.dailysabah.com/search?query=Technology&qlimit=by_fifty&pgno=17', 'https://www.dailysabah.com/search?query=Technology&qlimit=by_fifty&pgno=18', 'https://www.dailysabah.com/search?query=Technology&qlimit=by_fifty&pgno=19', 'https://www.dailysabah.com/search?query=Technology&qlimit=by_fifty&pgno=20', 'https://www.dailysabah.com/search?query=Technology&qlimit=by_fifty&pgno=21', 'https://www.dailysabah.com/search?query=Technology&qlimit=by_fifty&pgno=22', 'https://www.dailysabah.com/search?query=Technology&qlimit=by_fifty&pgno=23', 'https://www.dailysabah.com/search?query=Technology&qlimit=by_fifty&pgno=24', 'https://www.dailysabah.com/search?query=Technology&qlimit=by_fifty&pgno=25', 'https://www.dailysabah.com/search?query=Technology&qlimit=by_fifty&pgno=26', 'https://www.dailysabah.com/search?query=Technology&qlimit=by_fifty&pgno=27', 'https://www.dailysabah.com/search?query=Technology&qlimit=by_fifty&pgno=28', 'https://www.dailysabah.com/search?query=Technology&qlimit=by_fifty&pgno=29', 'https://www.dailysabah.com/search?query=Technology&qlimit=by_fifty&pgno=30', 'https://www.dailysabah.com/search?query=Technology&qlimit=by_fifty&pgno=31', 'https://www.dailysabah.com/search?query=Technology&qlimit=by_fifty&pgno=32', 'https://www.dailysabah.com/search?query=Technology&qlimit=by_fifty&pgno=33', 'https://www.dailysabah.com/search?query=Technology&qlimit=by_fifty&pgno=34', 'https://www.dailysabah.com/search?query=Technology&qlimit=by_fifty&pgno=35', 'https://www.dailysabah.com/search?query=Technology&qlimit=by_fifty&pgno=36', 'https://www.dailysabah.com/search?query=Technology&qlimit=by_fifty&pgno=37', 'https://www.dailysabah.com/search?query=Technology&qlimit=by_fifty&pgno=38', 'https://www.dailysabah.com/search?query=Technology&qlimit=by_fifty&pgno=39', 'https://www.dailysabah.com/search?query=Technology&qlimit=by_fifty&pgno=40', 'https://www.dailysabah.com/search?query=Technology&qlimit=by_fifty&pgno=41', 'https://www.dailysabah.com/search?query=Technology&qlimit=by_fifty&pgno=42', 'https://www.dailysabah.com/search?query=Technology&qlimit=by_fifty&pgno=43', 'https://www.dailysabah.com/search?query=Technology&qlimit=by_fifty&pgno=44', 'https://www.dailysabah.com/search?query=Technology&qlimit=by_fifty&pgno=45', 'https://www.dailysabah.com/search?query=Technology&qlimit=by_fifty&pgno=46', 'https://www.dailysabah.com/search?query=Technology&qlimit=by_fifty&pgno=47', 'https://www.dailysabah.com/search?query=Technology&qlimit=by_fifty&pgno=48', 'https://www.dailysabah.com/search?query=Technology&qlimit=by_fifty&pgno=49', 'https://www.dailysabah.com/search?query=Technology&qlimit=by_fifty&pgno=50', 'https://www.dailysabah.com/search?query=Technology&qlimit=by_fifty&pgno=51', 'https://www.dailysabah.com/search?query=Technology&qlimit=by_fifty&pgno=52', 'https://www.dailysabah.com/search?query=Technology&qlimit=by_fifty&pgno=53', 'https://www.dailysabah.com/search?query=Technology&qlimit=by_fifty&pgno=54', 'https://www.dailysabah.com/search?query=Technology&qlimit=by_fifty&pgno=55', 'https://www.dailysabah.com/search?query=Technology&qlimit=by_fifty&pgno=56', 'https://www.dailysabah.com/search?query=Technology&qlimit=by_fifty&pgno=57', 'https://www.dailysabah.com/search?query=Technology&qlimit=by_fifty&pgno=58', 'https://www.dailysabah.com/search?query=Technology&qlimit=by_fifty&pgno=59', 'https://www.dailysabah.com/search?query=Technology&qlimit=by_fifty&pgno=60', 'https://www.dailysabah.com/search?query=Technology&qlimit=by_fifty&pgno=61', 'https://www.dailysabah.com/search?query=Technology&qlimit=by_fifty&pgno=62', 'https://www.dailysabah.com/search?query=Technology&qlimit=by_fifty&pgno=63', 'https://www.dailysabah.com/search?query=Technology&qlimit=by_fifty&pgno=64', 'https://www.dailysabah.com/search?query=Technology&qlimit=by_fifty&pgno=65', 'https://www.dailysabah.com/search?query=Technology&qlimit=by_fifty&pgno=66', 'https://www.dailysabah.com/search?query=Technology&qlimit=by_fifty&pgno=67', 'https://www.dailysabah.com/search?query=Technology&qlimit=by_fifty&pgno=68', 'https://www.dailysabah.com/search?query=Technology&qlimit=by_fifty&pgno=69', 'https://www.dailysabah.com/search?query=Technology&qlimit=by_fifty&pgno=70', 'https://www.dailysabah.com/search?query=Technology&qlimit=by_fifty&pgno=71', 'https://www.dailysabah.com/search?query=Technology&qlimit=by_fifty&pgno=72', 'https://www.dailysabah.com/search?query=Technology&qlimit=by_fifty&pgno=73', 'https://www.dailysabah.com/search?query=Technology&qlimit=by_fifty&pgno=74', 'https://www.dailysabah.com/search?query=Technology&qlimit=by_fifty&pgno=75', 'https://www.dailysabah.com/search?query=Technology&qlimit=by_fifty&pgno=76', 'https://www.dailysabah.com/search?query=Technology&qlimit=by_fifty&pgno=77', 'https://www.dailysabah.com/search?query=Technology&qlimit=by_fifty&pgno=78', 'https://www.dailysabah.com/search?query=Technology&qlimit=by_fifty&pgno=79', 'https://www.dailysabah.com/search?query=Technology&qlimit=by_fifty&pgno=80', 'https://www.dailysabah.com/search?query=Technology&qlimit=by_fifty&pgno=81', 'https://www.dailysabah.com/search?query=Technology&qlimit=by_fifty&pgno=82', 'https://www.dailysabah.com/search?query=Technology&qlimit=by_fifty&pgno=83', 'https://www.dailysabah.com/search?query=Technology&qlimit=by_fifty&pgno=84', 'https://www.dailysabah.com/search?query=Technology&qlimit=by_fifty&pgno=85', 'https://www.dailysabah.com/search?query=Technology&qlimit=by_fifty&pgno=86', 'https://www.dailysabah.com/search?query=Technology&qlimit=by_fifty&pgno=87', 'https://www.dailysabah.com/search?query=Technology&qlimit=by_fifty&pgno=88', 'https://www.dailysabah.com/search?query=Technology&qlimit=by_fifty&pgno=89', 'https://www.dailysabah.com/search?query=Technology&qlimit=by_fifty&pgno=90', 'https://www.dailysabah.com/search?query=Technology&qlimit=by_fifty&pgno=91', 'https://www.dailysabah.com/search?query=Technology&qlimit=by_fifty&pgno=92', 'https://www.dailysabah.com/search?query=Technology&qlimit=by_fifty&pgno=93', 'https://www.dailysabah.com/search?query=Technology&qlimit=by_fifty&pgno=94', 'https://www.dailysabah.com/search?query=Technology&qlimit=by_fifty&pgno=95', 'https://www.dailysabah.com/search?query=Technology&qlimit=by_fifty&pgno=96', 'https://www.dailysabah.com/search?query=Technology&qlimit=by_fifty&pgno=97', 'https://www.dailysabah.com/search?query=Technology&qlimit=by_fifty&pgno=98', 'https://www.dailysabah.com/search?query=Technology&qlimit=by_fifty&pgno=99', 'https://www.dailysabah.com/search?query=Technology&qlimit=by_fifty&pgno=100', 'https://www.dailysabah.com/search?query=Technology&qlimit=by_fifty&pgno=101', 'https://www.dailysabah.com/search?query=Technology&qlimit=by_fifty&pgno=102', 'https://www.dailysabah.com/search?query=Technology&qlimit=by_fifty&pgno=103', 'https://www.dailysabah.com/search?query=Technology&qlimit=by_fifty&pgno=104', 'https://www.dailysabah.com/search?query=Technology&qlimit=by_fifty&pgno=105', 'https://www.dailysabah.com/search?query=Technology&qlimit=by_fifty&pgno=106', 'https://www.dailysabah.com/search?query=Technology&qlimit=by_fifty&pgno=107', 'https://www.dailysabah.com/search?query=Technology&qlimit=by_fifty&pgno=108', 'https://www.dailysabah.com/search?query=Technology&qlimit=by_fifty&pgno=109', 'https://www.dailysabah.com/search?query=Technology&qlimit=by_fifty&pgno=110', 'https://www.dailysabah.com/search?query=Technology&qlimit=by_fifty&pgno=111', 'https://www.dailysabah.com/search?query=Technology&qlimit=by_fifty&pgno=112', 'https://www.dailysabah.com/search?query=Technology&qlimit=by_fifty&pgno=113', 'https://www.dailysabah.com/search?query=Technology&qlimit=by_fifty&pgno=114', 'https://www.dailysabah.com/search?query=Technology&qlimit=by_fifty&pgno=115', 'https://www.dailysabah.com/search?query=Technology&qlimit=by_fifty&pgno=116', 'https://www.dailysabah.com/search?query=Technology&qlimit=by_fifty&pgno=117', 'https://www.dailysabah.com/search?query=Technology&qlimit=by_fifty&pgno=118', 'https://www.dailysabah.com/search?query=Technology&qlimit=by_fifty&pgno=119', 'https://www.dailysabah.com/search?query=Technology&qlimit=by_fifty&pgno=120', 'https://www.dailysabah.com/search?query=Technology&qlimit=by_fifty&pgno=121', 'https://www.dailysabah.com/search?query=Technology&qlimit=by_fifty&pgno=122', 'https://www.dailysabah.com/search?query=Technology&qlimit=by_fifty&pgno=123', 'https://www.dailysabah.com/search?query=Technology&qlimit=by_fifty&pgno=124', 'https://www.dailysabah.com/search?query=Technology&qlimit=by_fifty&pgno=125', 'https://www.dailysabah.com/search?query=Technology&qlimit=by_fifty&pgno=126', 'https://www.dailysabah.com/search?query=Technology&qlimit=by_fifty&pgno=127', 'https://www.dailysabah.com/search?query=Technology&qlimit=by_fifty&pgno=128', 'https://www.dailysabah.com/search?query=Technology&qlimit=by_fifty&pgno=129', 'https://www.dailysabah.com/search?query=Technology&qlimit=by_fifty&pgno=130', 'https://www.dailysabah.com/search?query=Technology&qlimit=by_fifty&pgno=131', 'https://www.dailysabah.com/search?query=Technology&qlimit=by_fifty&pgno=132', 'https://www.dailysabah.com/search?query=Technology&qlimit=by_fifty&pgno=133', 'https://www.dailysabah.com/search?query=Technology&qlimit=by_fifty&pgno=134', 'https://www.dailysabah.com/search?query=Technology&qlimit=by_fifty&pgno=135', 'https://www.dailysabah.com/search?query=Technology&qlimit=by_fifty&pgno=136', 'https://www.dailysabah.com/search?query=Technology&qlimit=by_fifty&pgno=137', 'https://www.dailysabah.com/search?query=Technology&qlimit=by_fifty&pgno=138', 'https://www.dailysabah.com/search?query=Technology&qlimit=by_fifty&pgno=139', 'https://www.dailysabah.com/search?query=Technology&qlimit=by_fifty&pgno=140', 'https://www.dailysabah.com/search?query=Technology&qlimit=by_fifty&pgno=141', 'https://www.dailysabah.com/search?query=Technology&qlimit=by_fifty&pgno=142', 'https://www.dailysabah.com/search?query=Technology&qlimit=by_fifty&pgno=143', 'https://www.dailysabah.com/search?query=Technology&qlimit=by_fifty&pgno=144', 'https://www.dailysabah.com/search?query=Technology&qlimit=by_fifty&pgno=145', 'https://www.dailysabah.com/search?query=Technology&qlimit=by_fifty&pgno=146', 'https://www.dailysabah.com/search?query=Technology&qlimit=by_fifty&pgno=147', 'https://www.dailysabah.com/search?query=Technology&qlimit=by_fifty&pgno=148', 'https://www.dailysabah.com/search?query=Technology&qlimit=by_fifty&pgno=149', 'https://www.dailysabah.com/search?query=Technology&qlimit=by_fifty&pgno=150', 'https://www.dailysabah.com/search?query=Technology&qlimit=by_fifty&pgno=151', 'https://www.dailysabah.com/search?query=Technology&qlimit=by_fifty&pgno=152', 'https://www.dailysabah.com/search?query=Technology&qlimit=by_fifty&pgno=153', 'https://www.dailysabah.com/search?query=Technology&qlimit=by_fifty&pgno=154', 'https://www.dailysabah.com/search?query=Technology&qlimit=by_fifty&pgno=155', 'https://www.dailysabah.com/search?query=Technology&qlimit=by_fifty&pgno=156', 'https://www.dailysabah.com/search?query=Technology&qlimit=by_fifty&pgno=157', 'https://www.dailysabah.com/search?query=Technology&qlimit=by_fifty&pgno=158', 'https://www.dailysabah.com/search?query=Technology&qlimit=by_fifty&pgno=159', 'https://www.dailysabah.com/search?query=Technology&qlimit=by_fifty&pgno=160', 'https://www.dailysabah.com/search?query=Technology&qlimit=by_fifty&pgno=161', 'https://www.dailysabah.com/search?query=Technology&qlimit=by_fifty&pgno=162', 'https://www.dailysabah.com/search?query=Technology&qlimit=by_fifty&pgno=163', 'https://www.dailysabah.com/search?query=Technology&qlimit=by_fifty&pgno=164', 'https://www.dailysabah.com/search?query=Technology&qlimit=by_fifty&pgno=165', 'https://www.dailysabah.com/search?query=Technology&qlimit=by_fifty&pgno=166', 'https://www.dailysabah.com/search?query=Technology&qlimit=by_fifty&pgno=167', 'https://www.dailysabah.com/search?query=Technology&qlimit=by_fifty&pgno=168', 'https://www.dailysabah.com/search?query=Technology&qlimit=by_fifty&pgno=169', 'https://www.dailysabah.com/search?query=Technology&qlimit=by_fifty&pgno=170', 'https://www.dailysabah.com/search?query=Technology&qlimit=by_fifty&pgno=171', 'https://www.dailysabah.com/search?query=Technology&qlimit=by_fifty&pgno=172', 'https://www.dailysabah.com/search?query=Technology&qlimit=by_fifty&pgno=173', 'https://www.dailysabah.com/search?query=Technology&qlimit=by_fifty&pgno=174', 'https://www.dailysabah.com/search?query=Technology&qlimit=by_fifty&pgno=175', 'https://www.dailysabah.com/search?query=Technology&qlimit=by_fifty&pgno=176', 'https://www.dailysabah.com/search?query=Technology&qlimit=by_fifty&pgno=177', 'https://www.dailysabah.com/search?query=Technology&qlimit=by_fifty&pgno=178', 'https://www.dailysabah.com/search?query=Technology&qlimit=by_fifty&pgno=179', 'https://www.dailysabah.com/search?query=Technology&qlimit=by_fifty&pgno=180', 'https://www.dailysabah.com/search?query=Technology&qlimit=by_fifty&pgno=181', 'https://www.dailysabah.com/search?query=Technology&qlimit=by_fifty&pgno=182', 'https://www.dailysabah.com/search?query=Technology&qlimit=by_fifty&pgno=183', 'https://www.dailysabah.com/search?query=Technology&qlimit=by_fifty&pgno=184', 'https://www.dailysabah.com/search?query=Technology&qlimit=by_fifty&pgno=185', 'https://www.dailysabah.com/search?query=Technology&qlimit=by_fifty&pgno=186', 'https://www.dailysabah.com/search?query=Technology&qlimit=by_fifty&pgno=187', 'https://www.dailysabah.com/search?query=Technology&qlimit=by_fifty&pgno=188', 'https://www.dailysabah.com/search?query=Technology&qlimit=by_fifty&pgno=189', 'https://www.dailysabah.com/search?query=Technology&qlimit=by_fifty&pgno=190', 'https://www.dailysabah.com/search?query=Technology&qlimit=by_fifty&pgno=191', 'https://www.dailysabah.com/search?query=Technology&qlimit=by_fifty&pgno=192', 'https://www.dailysabah.com/search?query=Technology&qlimit=by_fifty&pgno=193', 'https://www.dailysabah.com/search?query=Technology&qlimit=by_fifty&pgno=194', 'https://www.dailysabah.com/search?query=Technology&qlimit=by_fifty&pgno=195', 'https://www.dailysabah.com/search?query=Technology&qlimit=by_fifty&pgno=196', 'https://www.dailysabah.com/search?query=Technology&qlimit=by_fifty&pgno=197', 'https://www.dailysabah.com/search?query=Technology&qlimit=by_fifty&pgno=198', 'https://www.dailysabah.com/search?query=Technology&qlimit=by_fifty&pgno=199', 'https://www.dailysabah.com/search?query=Technology&qlimit=by_fifty&pgno=200', 'https://www.dailysabah.com/search?query=Technology&qlimit=by_fifty&pgno=201', 'https://www.dailysabah.com/search?query=Technology&qlimit=by_fifty&pgno=202', 'https://www.dailysabah.com/search?query=Technology&qlimit=by_fifty&pgno=203', 'https://www.dailysabah.com/search?query=Technology&qlimit=by_fifty&pgno=204', 'https://www.dailysabah.com/search?query=Technology&qlimit=by_fifty&pgno=205', 'https://www.dailysabah.com/search?query=Technology&qlimit=by_fifty&pgno=206', 'https://www.dailysabah.com/search?query=Technology&qlimit=by_fifty&pgno=207', 'https://www.dailysabah.com/search?query=Technology&qlimit=by_fifty&pgno=208', 'https://www.dailysabah.com/search?query=Technology&qlimit=by_fifty&pgno=209', 'https://www.dailysabah.com/search?query=Technology&qlimit=by_fifty&pgno=210', 'https://www.dailysabah.com/search?query=Technology&qlimit=by_fifty&pgno=211', 'https://www.dailysabah.com/search?query=Technology&qlimit=by_fifty&pgno=212', 'https://www.dailysabah.com/search?query=Technology&qlimit=by_fifty&pgno=213', 'https://www.dailysabah.com/search?query=Technology&qlimit=by_fifty&pgno=214', 'https://www.dailysabah.com/search?query=Technology&qlimit=by_fifty&pgno=215', 'https://www.dailysabah.com/search?query=Technology&qlimit=by_fifty&pgno=216', 'https://www.dailysabah.com/search?query=Technology&qlimit=by_fifty&pgno=217', 'https://www.dailysabah.com/search?query=Technology&qlimit=by_fifty&pgno=218', 'https://www.dailysabah.com/search?query=Technology&qlimit=by_fifty&pgno=219', 'https://www.dailysabah.com/search?query=Technology&qlimit=by_fifty&pgno=220', 'https://www.dailysabah.com/search?query=Technology&qlimit=by_fifty&pgno=221', 'https://www.dailysabah.com/search?query=Technology&qlimit=by_fifty&pgno=222', 'https://www.dailysabah.com/search?query=Technology&qlimit=by_fifty&pgno=223', 'https://www.dailysabah.com/search?query=Technology&qlimit=by_fifty&pgno=224', 'https://www.dailysabah.com/search?query=Technology&qlimit=by_fifty&pgno=225', 'https://www.dailysabah.com/search?query=Technology&qlimit=by_fifty&pgno=226', 'https://www.dailysabah.com/search?query=Technology&qlimit=by_fifty&pgno=227', 'https://www.dailysabah.com/search?query=Technology&qlimit=by_fifty&pgno=228', 'https://www.dailysabah.com/search?query=Technology&qlimit=by_fifty&pgno=229', 'https://www.dailysabah.com/search?query=Technology&qlimit=by_fifty&pgno=230', 'https://www.dailysabah.com/search?query=Technology&qlimit=by_fifty&pgno=231', 'https://www.dailysabah.com/search?query=Technology&qlimit=by_fifty&pgno=232', 'https://www.dailysabah.com/search?query=Technology&qlimit=by_fifty&pgno=233']\n",
            "['https://www.dailysabah.com/search?qsubsection=science&pgno=1', 'https://www.dailysabah.com/search?qsubsection=science&pgno=2', 'https://www.dailysabah.com/search?qsubsection=science&pgno=3', 'https://www.dailysabah.com/search?qsubsection=science&pgno=4', 'https://www.dailysabah.com/search?qsubsection=science&pgno=5', 'https://www.dailysabah.com/search?qsubsection=science&pgno=6', 'https://www.dailysabah.com/search?qsubsection=science&pgno=7', 'https://www.dailysabah.com/search?qsubsection=science&pgno=8', 'https://www.dailysabah.com/search?qsubsection=science&pgno=9', 'https://www.dailysabah.com/search?qsubsection=science&pgno=10', 'https://www.dailysabah.com/search?qsubsection=science&pgno=11', 'https://www.dailysabah.com/search?qsubsection=science&pgno=12', 'https://www.dailysabah.com/search?qsubsection=science&pgno=13', 'https://www.dailysabah.com/search?qsubsection=science&pgno=14', 'https://www.dailysabah.com/search?qsubsection=science&pgno=15', 'https://www.dailysabah.com/search?qsubsection=science&pgno=16', 'https://www.dailysabah.com/search?qsubsection=science&pgno=17', 'https://www.dailysabah.com/search?qsubsection=science&pgno=18', 'https://www.dailysabah.com/search?qsubsection=science&pgno=19', 'https://www.dailysabah.com/search?qsubsection=science&pgno=20', 'https://www.dailysabah.com/search?qsubsection=science&pgno=21', 'https://www.dailysabah.com/search?qsubsection=science&pgno=22', 'https://www.dailysabah.com/search?qsubsection=science&pgno=23', 'https://www.dailysabah.com/search?qsubsection=science&pgno=24', 'https://www.dailysabah.com/search?qsubsection=science&pgno=25', 'https://www.dailysabah.com/search?qsubsection=science&pgno=26', 'https://www.dailysabah.com/search?qsubsection=science&pgno=27', 'https://www.dailysabah.com/search?qsubsection=science&pgno=28', 'https://www.dailysabah.com/search?qsubsection=science&pgno=29', 'https://www.dailysabah.com/search?qsubsection=science&pgno=30', 'https://www.dailysabah.com/search?qsubsection=science&pgno=31', 'https://www.dailysabah.com/search?qsubsection=science&pgno=32', 'https://www.dailysabah.com/search?qsubsection=science&pgno=33', 'https://www.dailysabah.com/search?qsubsection=science&pgno=34', 'https://www.dailysabah.com/search?qsubsection=science&pgno=35', 'https://www.dailysabah.com/search?qsubsection=science&pgno=36', 'https://www.dailysabah.com/search?qsubsection=science&pgno=37', 'https://www.dailysabah.com/search?qsubsection=science&pgno=38', 'https://www.dailysabah.com/search?qsubsection=science&pgno=39', 'https://www.dailysabah.com/search?qsubsection=science&pgno=40', 'https://www.dailysabah.com/search?qsubsection=science&pgno=41', 'https://www.dailysabah.com/search?qsubsection=science&pgno=42', 'https://www.dailysabah.com/search?qsubsection=science&pgno=43', 'https://www.dailysabah.com/search?qsubsection=science&pgno=44', 'https://www.dailysabah.com/search?qsubsection=science&pgno=45', 'https://www.dailysabah.com/search?qsubsection=science&pgno=46', 'https://www.dailysabah.com/search?qsubsection=science&pgno=47', 'https://www.dailysabah.com/search?qsubsection=science&pgno=48', 'https://www.dailysabah.com/search?qsubsection=science&pgno=49', 'https://www.dailysabah.com/search?qsubsection=science&pgno=50', 'https://www.dailysabah.com/search?qsubsection=science&pgno=51', 'https://www.dailysabah.com/search?qsubsection=science&pgno=52', 'https://www.dailysabah.com/search?qsubsection=science&pgno=53', 'https://www.dailysabah.com/search?qsubsection=science&pgno=54', 'https://www.dailysabah.com/search?qsubsection=science&pgno=55', 'https://www.dailysabah.com/search?qsubsection=science&pgno=56', 'https://www.dailysabah.com/search?qsubsection=science&pgno=57', 'https://www.dailysabah.com/search?qsubsection=science&pgno=58', 'https://www.dailysabah.com/search?qsubsection=science&pgno=59', 'https://www.dailysabah.com/search?qsubsection=science&pgno=60', 'https://www.dailysabah.com/search?qsubsection=science&pgno=61', 'https://www.dailysabah.com/search?qsubsection=science&pgno=62', 'https://www.dailysabah.com/search?qsubsection=science&pgno=63', 'https://www.dailysabah.com/search?qsubsection=science&pgno=64', 'https://www.dailysabah.com/search?qsubsection=science&pgno=65', 'https://www.dailysabah.com/search?qsubsection=science&pgno=66', 'https://www.dailysabah.com/search?qsubsection=science&pgno=67', 'https://www.dailysabah.com/search?qsubsection=science&pgno=68', 'https://www.dailysabah.com/search?qsubsection=science&pgno=69', 'https://www.dailysabah.com/search?qsubsection=science&pgno=70', 'https://www.dailysabah.com/search?qsubsection=science&pgno=71', 'https://www.dailysabah.com/search?qsubsection=science&pgno=72', 'https://www.dailysabah.com/search?qsubsection=science&pgno=73', 'https://www.dailysabah.com/search?qsubsection=science&pgno=74', 'https://www.dailysabah.com/search?qsubsection=science&pgno=75', 'https://www.dailysabah.com/search?qsubsection=science&pgno=76', 'https://www.dailysabah.com/search?qsubsection=science&pgno=77', 'https://www.dailysabah.com/search?qsubsection=science&pgno=78', 'https://www.dailysabah.com/search?qsubsection=science&pgno=79', 'https://www.dailysabah.com/search?qsubsection=science&pgno=80', 'https://www.dailysabah.com/search?qsubsection=science&pgno=81', 'https://www.dailysabah.com/search?qsubsection=science&pgno=82', 'https://www.dailysabah.com/search?qsubsection=science&pgno=83', 'https://www.dailysabah.com/search?qsubsection=science&pgno=84', 'https://www.dailysabah.com/search?qsubsection=science&pgno=85', 'https://www.dailysabah.com/search?qsubsection=science&pgno=86', 'https://www.dailysabah.com/search?qsubsection=science&pgno=87', 'https://www.dailysabah.com/search?qsubsection=science&pgno=88', 'https://www.dailysabah.com/search?qsubsection=science&pgno=89', 'https://www.dailysabah.com/search?qsubsection=science&pgno=90', 'https://www.dailysabah.com/search?qsubsection=science&pgno=91', 'https://www.dailysabah.com/search?qsubsection=science&pgno=92', 'https://www.dailysabah.com/search?qsubsection=science&pgno=93', 'https://www.dailysabah.com/search?qsubsection=science&pgno=94', 'https://www.dailysabah.com/search?qsubsection=science&pgno=95', 'https://www.dailysabah.com/search?qsubsection=science&pgno=96', 'https://www.dailysabah.com/search?qsubsection=science&pgno=97', 'https://www.dailysabah.com/search?qsubsection=science&pgno=98', 'https://www.dailysabah.com/search?qsubsection=science&pgno=99', 'https://www.dailysabah.com/search?qsubsection=science&pgno=100', 'https://www.dailysabah.com/search?qsubsection=science&pgno=101', 'https://www.dailysabah.com/search?qsubsection=science&pgno=102', 'https://www.dailysabah.com/search?qsubsection=science&pgno=103', 'https://www.dailysabah.com/search?qsubsection=science&pgno=104', 'https://www.dailysabah.com/search?qsubsection=science&pgno=105', 'https://www.dailysabah.com/search?qsubsection=science&pgno=106', 'https://www.dailysabah.com/search?qsubsection=science&pgno=107', 'https://www.dailysabah.com/search?qsubsection=science&pgno=108', 'https://www.dailysabah.com/search?qsubsection=science&pgno=109', 'https://www.dailysabah.com/search?qsubsection=science&pgno=110', 'https://www.dailysabah.com/search?qsubsection=science&pgno=111', 'https://www.dailysabah.com/search?qsubsection=science&pgno=112', 'https://www.dailysabah.com/search?qsubsection=science&pgno=113', 'https://www.dailysabah.com/search?qsubsection=science&pgno=114', 'https://www.dailysabah.com/search?qsubsection=science&pgno=115', 'https://www.dailysabah.com/search?qsubsection=science&pgno=116', 'https://www.dailysabah.com/search?qsubsection=science&pgno=117', 'https://www.dailysabah.com/search?qsubsection=science&pgno=118', 'https://www.dailysabah.com/search?qsubsection=science&pgno=119', 'https://www.dailysabah.com/search?qsubsection=science&pgno=120', 'https://www.dailysabah.com/search?qsubsection=science&pgno=121', 'https://www.dailysabah.com/search?qsubsection=science&pgno=122', 'https://www.dailysabah.com/search?qsubsection=science&pgno=123', 'https://www.dailysabah.com/search?qsubsection=science&pgno=124', 'https://www.dailysabah.com/search?qsubsection=science&pgno=125', 'https://www.dailysabah.com/search?qsubsection=science&pgno=126', 'https://www.dailysabah.com/search?qsubsection=science&pgno=127', 'https://www.dailysabah.com/search?qsubsection=science&pgno=128', 'https://www.dailysabah.com/search?qsubsection=science&pgno=129', 'https://www.dailysabah.com/search?qsubsection=science&pgno=130', 'https://www.dailysabah.com/search?qsubsection=science&pgno=131', 'https://www.dailysabah.com/search?qsubsection=science&pgno=132', 'https://www.dailysabah.com/search?qsubsection=science&pgno=133', 'https://www.dailysabah.com/search?qsubsection=science&pgno=134', 'https://www.dailysabah.com/search?qsubsection=science&pgno=135', 'https://www.dailysabah.com/search?qsubsection=science&pgno=136', 'https://www.dailysabah.com/search?qsubsection=science&pgno=137', 'https://www.dailysabah.com/search?qsubsection=science&pgno=138', 'https://www.dailysabah.com/search?qsubsection=science&pgno=139', 'https://www.dailysabah.com/search?qsubsection=science&pgno=140', 'https://www.dailysabah.com/search?qsubsection=science&pgno=141', 'https://www.dailysabah.com/search?qsubsection=science&pgno=142', 'https://www.dailysabah.com/search?qsubsection=science&pgno=143', 'https://www.dailysabah.com/search?qsubsection=science&pgno=144', 'https://www.dailysabah.com/search?qsubsection=science&pgno=145', 'https://www.dailysabah.com/search?qsubsection=science&pgno=146', 'https://www.dailysabah.com/search?qsubsection=science&pgno=147', 'https://www.dailysabah.com/search?qsubsection=science&pgno=148', 'https://www.dailysabah.com/search?qsubsection=science&pgno=149', 'https://www.dailysabah.com/search?qsubsection=science&pgno=150', 'https://www.dailysabah.com/search?qsubsection=science&pgno=151', 'https://www.dailysabah.com/search?qsubsection=science&pgno=152', 'https://www.dailysabah.com/search?qsubsection=science&pgno=153', 'https://www.dailysabah.com/search?qsubsection=science&pgno=154', 'https://www.dailysabah.com/search?qsubsection=science&pgno=155', 'https://www.dailysabah.com/search?qsubsection=science&pgno=156', 'https://www.dailysabah.com/search?qsubsection=science&pgno=157', 'https://www.dailysabah.com/search?qsubsection=science&pgno=158', 'https://www.dailysabah.com/search?qsubsection=science&pgno=159', 'https://www.dailysabah.com/search?qsubsection=science&pgno=160', 'https://www.dailysabah.com/search?qsubsection=science&pgno=161', 'https://www.dailysabah.com/search?qsubsection=science&pgno=162', 'https://www.dailysabah.com/search?qsubsection=science&pgno=163', 'https://www.dailysabah.com/search?qsubsection=science&pgno=164', 'https://www.dailysabah.com/search?qsubsection=science&pgno=165', 'https://www.dailysabah.com/search?qsubsection=science&pgno=166', 'https://www.dailysabah.com/search?qsubsection=science&pgno=167', 'https://www.dailysabah.com/search?qsubsection=science&pgno=168', 'https://www.dailysabah.com/search?qsubsection=science&pgno=169']\n"
          ]
        }
      ]
    },
    {
      "cell_type": "code",
      "source": [
        "technology_wrong_link = []"
      ],
      "metadata": {
        "id": "rRorXidZsA9s"
      },
      "execution_count": 167,
      "outputs": []
    },
    {
      "cell_type": "code",
      "source": [
        "def science_get_link_creator(url):\n",
        "  html = requests.get(url).content                                                          \n",
        "  soup = BeautifulSoup(html,\"html.parser\")\n",
        "  list = soup.find(\"div\",{\"class\" :\"list_with_rectangle_image search_results\"}).find_all(\"div\",{\"class\": \"widget_content\"})\n",
        "  for i in list:\n",
        "    href = i.find(\"h3\").find(\"a\").get(\"href\")\n",
        "    with open(\"daily_science_Links.txt\",\"a\",encoding=\"utf-8\") as file :\n",
        "      file.write(href+\"\\n\")\n",
        "    \n"
      ],
      "metadata": {
        "id": "GEaXaeFKaY0h"
      },
      "execution_count": 168,
      "outputs": []
    },
    {
      "cell_type": "code",
      "source": [
        "def technology_get_link_creator(url):\n",
        "  html = requests.get(url).content                                                          \n",
        "  soup = BeautifulSoup(html,\"html.parser\")\n",
        "  list = soup.find(\"div\",{\"class\" :\"list_with_rectangle_image search_results\"}).find_all(\"div\",{\"class\": \"widget_content\"})\n",
        "  for i in list:\n",
        "    href = i.find(\"h3\").find(\"a\").get(\"href\")\n",
        "    if(href.startswith(\"https://www.dailysabah.com/life/science/\")):\n",
        "      technology_wrong_link.append(href)\n",
        "    else :   \n",
        "      with open(\"daily_technology_Links.txt\",\"a\",encoding=\"utf-8\") as file :\n",
        "        file.write(href+\"\\n\")"
      ],
      "metadata": {
        "id": "PZmDP32fo_kB"
      },
      "execution_count": 169,
      "outputs": []
    },
    {
      "cell_type": "code",
      "source": [
        "import concurrent\n",
        "t1=time.time()\n",
        "with concurrent.futures.ProcessPoolExecutor() as execut:\n",
        "  b_res=[execut.submit(science_get_link_creator,i.strip()) for i in science_link]\n",
        "print(time.time()-t1)\n",
        "\n",
        "t2=time.time()\n",
        "with concurrent.futures.ProcessPoolExecutor() as execut:\n",
        "  b_res=[execut.submit(technology_get_link_creator,i.strip()) for i in technology_link]\n",
        "print(time.time()-t2)"
      ],
      "metadata": {
        "id": "wZ5aTy07tcEs",
        "colab": {
          "base_uri": "https://localhost:8080/"
        },
        "outputId": "0cc9c7a8-c5c1-42b5-9842-5adaaae65108"
      },
      "execution_count": 171,
      "outputs": [
        {
          "output_type": "stream",
          "name": "stdout",
          "text": [
            "58.37489652633667\n",
            "68.1067726612091\n"
          ]
        }
      ]
    }
  ]
}