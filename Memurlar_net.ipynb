{
  "nbformat": 4,
  "nbformat_minor": 0,
  "metadata": {
    "colab": {
      "name": "Memurlar.net.ipynb",
      "provenance": [],
      "collapsed_sections": [],
      "authorship_tag": "ABX9TyOPRfMul4ldgoUdDJpA6G+9",
      "include_colab_link": true
    },
    "kernelspec": {
      "display_name": "Python 3",
      "name": "python3"
    },
    "language_info": {
      "name": "python"
    }
  },
  "cells": [
    {
      "cell_type": "markdown",
      "metadata": {
        "id": "view-in-github",
        "colab_type": "text"
      },
      "source": [
        "<a href=\"https://colab.research.google.com/github/doukansurel/takvimyeni/blob/main/Memurlar_net.ipynb\" target=\"_parent\"><img src=\"https://colab.research.google.com/assets/colab-badge.svg\" alt=\"Open In Colab\"/></a>"
      ]
    },
    {
      "cell_type": "code",
      "metadata": {
        "id": "wlGScHGx5GQf"
      },
      "source": [
        "import os\n",
        "import bs4\n",
        "import requests\n",
        "from bs4 import BeautifulSoup\n",
        "import pandas as pd\n",
        "import numpy as np\n",
        "import os\n",
        "import time\n",
        "import urllib.request\n",
        "import re\n",
        "import urllib3\n",
        "from pandas import DataFrame\n",
        "import csv\n",
        "import datetime\n",
        "from datetime import datetime, timedelta ,date"
      ],
      "execution_count": 1,
      "outputs": []
    },
    {
      "cell_type": "code",
      "metadata": {
        "id": "BvIbtt7jNnw4"
      },
      "source": [
        "\n",
        "def date_creator():\n",
        "  t1 = datetime(2003,1,1)\n",
        "  t2 = datetime(2021,7,28)\n",
        "  link3 =\"https://www.memurlar.net/arama/?SearchText=meme+kanseri&SearchLocation=all&IsHeadline=&NewsCategories=434&FirstDate={}&LastDate={}&City=\"\n",
        "  link1=\"https://www.memurlar.net/arama/?SearchText=kanser&SearchLocation=all&IsHeadline=&NewsCategories=3&FirstDate={}&LastDate={}&City=\"\n",
        "  link2=\"https://www.memurlar.net/arama/?SearchText=prostat+kanseri&SearchLocation=all&IsHeadline=&NewsCategories=3&FirstDate={}&LastDate={}&City=\"\n",
        "\n",
        "  t= timedelta(days = 1)\n",
        "  link_categories=\"\"\n",
        "  generate_url=\"\"\n",
        "  dates=np.arange(t1, t2, t).astype(datetime)\n",
        "  for j in dates:\n",
        "    lnk1=(link1.format(j.strftime('%Y-%m-%d') ,j.strftime('%Y-%m-%d') ))\n",
        "    \n",
        "    lnk2=(link2.format(j.strftime('%Y-%m-%d') ,j.strftime('%Y-%m-%d')))\n",
        "    lnk3=(link3.format(j.strftime('%Y-%m-%d') ,j.strftime('%Y-%m-%d')))\n",
        "    kanser_pages.append(lnk1)\n",
        "    prostat_kanseri_pages.append(lnk2)\n",
        "    meme_kanseri_pages.append(lnk3)\n",
        "\n",
        "    "
      ],
      "execution_count": 2,
      "outputs": []
    },
    {
      "cell_type": "code",
      "metadata": {
        "id": "ehSz4kC5R9hn"
      },
      "source": [
        "kanser_pages=[]\n",
        "meme_kanseri_pages=[]\n",
        "prostat_kanseri_pages=[]\n",
        "date_creator()"
      ],
      "execution_count": 3,
      "outputs": []
    },
    {
      "cell_type": "code",
      "metadata": {
        "id": "g0Xr959jKZWD"
      },
      "source": [
        "meme_kanser_links = []\n",
        "prostat_kanser_links = []\n",
        "kanser_links = []"
      ],
      "execution_count": 4,
      "outputs": []
    },
    {
      "cell_type": "code",
      "metadata": {
        "id": "TgUcRbEFVN8N"
      },
      "source": [
        "def kanser_get_link(link):\n",
        "  html = requests.get(link).content\n",
        "  soup = BeautifulSoup(html,\"html.parser\")\n",
        "  links = soup.find(\"div\",{\"class\":\"Content List\"}).find_all(\"a\")\n",
        "  href = \"\"\n",
        "  for i in links:\n",
        "    if i == \"\":\n",
        "      break\n",
        "    else:\n",
        "      href = i.get(\"href\")\n",
        "      href =\"https://www.memurlar.net\"+href\n",
        "      with open(\"memurlarnet_Kanser_Links.txt\",\"a\",encoding=\"utf-8\")as file:\n",
        "        file.write(href+\"\\n\")"
      ],
      "execution_count": 5,
      "outputs": []
    },
    {
      "cell_type": "code",
      "metadata": {
        "id": "BCqeyy425JCB"
      },
      "source": [
        "def meme_kanser_get_link(link):\n",
        "  html = requests.get(link).content\n",
        "  soup = BeautifulSoup(html,\"html.parser\")\n",
        "  links = soup.find(\"div\",{\"class\":\"Content List\"}).find_all(\"a\")\n",
        "  href = \"\"\n",
        "  for i in links:\n",
        "    if i == \"\":      \n",
        "      break\n",
        "    else:\n",
        "      href = i.get(\"href\")\n",
        "      href =\"https://www.memurlar.net\"+href\n",
        "      with open(\"memurlarnet_Meme_Kanseri_Links.txt\",\"a\",encoding=\"utf-8\")as file:\n",
        "        file.write(href+\"\\n\")"
      ],
      "execution_count": 6,
      "outputs": []
    },
    {
      "cell_type": "code",
      "metadata": {
        "id": "DWUC04Ei5UpA"
      },
      "source": [
        "def prostat_kanser_get_link(link):\n",
        "  html = requests.get(link).content\n",
        "  soup = BeautifulSoup(html,\"html.parser\")\n",
        "  links = soup.find(\"div\",{\"class\":\"Content List\"}).find_all(\"a\")\n",
        "  href = \"\"\n",
        "  for i in links:\n",
        "    if i == \"\":      \n",
        "      break\n",
        "    else:\n",
        "      href = i.get(\"href\")\n",
        "      href =\"https://www.memurlar.net\"+href\n",
        "      with open(\"memurlarnet_Prostat_Kanseri_Links.txt\",\"a\",encoding=\"utf-8\")as file:\n",
        "        file.write(href+\"\\n\")"
      ],
      "execution_count": 7,
      "outputs": []
    },
    {
      "cell_type": "code",
      "metadata": {
        "id": "w7PdVE8sQUJM"
      },
      "source": [
        "for i in prostat_kanseri_pages[:180]:\n",
        "  prostat_kanser_get_link(i)"
      ],
      "execution_count": null,
      "outputs": []
    },
    {
      "cell_type": "code",
      "metadata": {
        "id": "jhXWHEFwtRkt"
      },
      "source": [
        "import concurrent\n",
        "t1=time.time()\n",
        "with concurrent.futures.ProcessPoolExecutor() as execut:\n",
        "  b_res=[execut.submit(kanser_get_link,i.strip()) for i in kanser_pages]\n",
        "print(time.time()-t1)"
      ],
      "execution_count": null,
      "outputs": []
    },
    {
      "cell_type": "code",
      "metadata": {
        "id": "I6zGqAzk5cMS"
      },
      "source": [
        "import concurrent\n",
        "t1=time.time()\n",
        "with concurrent.futures.ProcessPoolExecutor() as execut:\n",
        "  b_res=[execut.submit(meme_kanser_get_link,i.strip()) for i in meme_kanseri_pages]\n",
        "print(time.time()-t1)"
      ],
      "execution_count": null,
      "outputs": []
    },
    {
      "cell_type": "code",
      "metadata": {
        "id": "rvnHBAx85jv1"
      },
      "source": [
        "import concurrent\n",
        "t1=time.time()\n",
        "with concurrent.futures.ProcessPoolExecutor() as execut:\n",
        "  b_res=[execut.submit(prostat_kanser_get_link,i.strip()) for i in prostat_kanseri_pages]\n",
        "print(time.time()-t1)\n"
      ],
      "execution_count": null,
      "outputs": []
    },
    {
      "cell_type": "code",
      "metadata": {
        "id": "OPo9CyvcC_kN"
      },
      "source": [
        "memurnet_kanser_links=[]\n",
        "memurnet_meme_kanser_links=[]\n",
        "memurnet_prostat_kanser_links=[]"
      ],
      "execution_count": null,
      "outputs": []
    },
    {
      "cell_type": "code",
      "metadata": {
        "id": "HpFhBIab6Ii0"
      },
      "source": [
        "with open(\"memurlarnet_Kanser_Links.txt\",'r',newline='') as f:\n",
        "  for i in f.readlines():    \n",
        "  # reader=csv.reader(f)\n",
        "    memurnet_kanser_links.append(i)"
      ],
      "execution_count": null,
      "outputs": []
    },
    {
      "cell_type": "code",
      "metadata": {
        "id": "KyDVBTJ-6OO5"
      },
      "source": [
        "\n",
        "with open(\"memurlarnet_Meme_Kanseri_Links.txt\",'r',newline='') as f:\n",
        "  for i in f.readlines():    \n",
        "  # reader=csv.reader(f)\n",
        "    memurnet_meme_kanser_links.append(i)"
      ],
      "execution_count": null,
      "outputs": []
    },
    {
      "cell_type": "code",
      "metadata": {
        "id": "w0CWU3iE6ZFC"
      },
      "source": [
        "with open(\"memurlarnet_Prostat_Kanseri_Links.txt\",'r',newline='') as f:\n",
        "  for i in f.readlines():    \n",
        "  # reader=csv.reader(f)\n",
        "    memurnet_prostat_kanser_links.append(i)"
      ],
      "execution_count": null,
      "outputs": []
    },
    {
      "cell_type": "code",
      "metadata": {
        "id": "4Bprz58R53Yl"
      },
      "source": [
        "def kanser_creator(url):\n",
        "  link =\"https://www.memurlar.net/haber/13051/ssk-yi-estetik-protez-vermeye-mahk-m-ettirdi.html\"\n",
        "  html = requests.get(link).content                                                                   \n",
        "  soup = BeautifulSoup(html,\"html.parser\")\n",
        "  content_string = \"\"\n",
        "  href =\"\"\n",
        "  title = soup.find(\"div\",{\"class\":\"DetailPage\"}).find(\"h1\").getText()\n",
        "  content = soup.find(\"div\",{\"class\":\"NewsDetail\"}).find_all(\"p\")\n",
        "  for w in content:\n",
        "    content_string += w.getText().strip(\"googletag.cmd.push(function() { googletag.display('div-gpt-ad-1560331211068-1'); })\")\n",
        "  date = soup.find(\"table\",{\"style\":\"border-bottom:1px dotted #d7d7d7; padding:3px 0; margin:10px 0;\"}).find(\"span\",{\"class\":\"Date\"}).getText() \n",
        "  date = date[:-6]\n",
        "  categori = soup.find(\"div\",{\"class\":\"ParentCategories\"}).find_all(\"a\")\n",
        "  for i in categori :\n",
        "    cat= i.getText()\n",
        "\n",
        "  with open(\"memurlarnet_Kanser_Cont\",\"a\",encoding=\"utf-8\") as file :\n",
        "    sentence = \"{};{};{};{};{}\".format(url,cat,date,title,content_string)\n",
        "    file.write(sentence+\"\\n\")"
      ],
      "execution_count": null,
      "outputs": []
    },
    {
      "cell_type": "code",
      "metadata": {
        "id": "1HFF8Q4VCZPn"
      },
      "source": [
        "def meme_kanser_creator(url):\n",
        "  link =\"https://www.memurlar.net/haber/13051/ssk-yi-estetik-protez-vermeye-mahk-m-ettirdi.html\"\n",
        "  html = requests.get(link).content                                                                    \n",
        "  soup = BeautifulSoup(html,\"html.parser\")\n",
        "  content_string = \"\"\n",
        "  href =\"\"\n",
        "  title = soup.find(\"div\",{\"class\":\"DetailPage\"}).find(\"h1\").getText()\n",
        "  content = soup.find(\"div\",{\"class\":\"NewsDetail\"}).find_all(\"p\")                                 \n",
        "  for w in content:\n",
        "    content_string += w.getText().strip(\"googletag.cmd.push(function() { googletag.display('div-gpt-ad-1560331211068-1'); })\")\n",
        "  date = soup.find(\"table\",{\"style\":\"border-bottom:1px dotted #d7d7d7; padding:3px 0; margin:10px 0;\"}).find(\"span\",{\"class\":\"Date\"}).getText() #Çalışıyor\n",
        "  date = date[:-6]\n",
        "  categori = soup.find(\"div\",{\"class\":\"ParentCategories\"}).find_all(\"a\")\n",
        "  for i in categori :\n",
        "    cat= i.getText()\n",
        "\n",
        "  with open(\"memurlarnet_Meme_Kanser_Cont\",\"a\",encoding=\"utf-8\") as file :\n",
        "    sentence = \"{};{};{};{};{}\".format(url,cat,date,title,content_string)\n",
        "    file.write(sentence+\"\\n\")\n"
      ],
      "execution_count": null,
      "outputs": []
    },
    {
      "cell_type": "code",
      "metadata": {
        "id": "W1bWNnuUCfGk"
      },
      "source": [
        "def prostat_kanser_creator(url):\n",
        "  link =\"https://www.memurlar.net/haber/13051/ssk-yi-estetik-protez-vermeye-mahk-m-ettirdi.html\"\n",
        "  html = requests.get(link).content                                                                    \n",
        "  soup = BeautifulSoup(html,\"html.parser\")\n",
        "  content_string = \"\"\n",
        "  content_array = []\n",
        "  href =\"\"\n",
        "  title = soup.find(\"div\",{\"class\":\"DetailPage\"}).find(\"h1\").getText()\n",
        "  content = soup.find(\"div\",{\"class\":\"NewsDetail\"}).find_all(\"p\")                                \n",
        "  for w in content:\n",
        "    content_array.append(w.getText().strip(\"googletag.cmd.push(function() { googletag.display('div-gpt-ad-1560331211068-1'); })\"))\n",
        "  for w in content_array :\n",
        "    content_string +=w\n",
        "  date = soup.find(\"table\",{\"style\":\"border-bottom:1px dotted #d7d7d7; padding:3px 0; margin:10px 0;\"}).find(\"span\",{\"class\":\"Date\"}).getText() #Çalışıyor\n",
        "  date = date[:-6]\n",
        "  categori = soup.find(\"div\",{\"class\":\"ParentCategories\"}).find_all(\"a\")\n",
        "  for i in categori :\n",
        "    cat= i.getText()\n",
        "\n",
        "  with open(\"memurlarnet_Prostat_Kanser_Cont\",\"a\",encoding=\"utf-8\") as file :\n",
        "    sentence = \"{};{};{};{};{}\".format(url,cat,date,title,content_string)\n",
        "    file.write(sentence)"
      ],
      "execution_count": null,
      "outputs": []
    },
    {
      "cell_type": "code",
      "metadata": {
        "id": "h_pOE7BhUv9y"
      },
      "source": [
        "# for i in memurnet_kanser_links:\n",
        "#   kanser_creator(i)\n",
        "# for a in memurnet_meme_kanser_links:\n",
        "#   meme_kanser_creator(a)\n",
        "for b in memurnet_prostat_kanser_links:\n",
        "  prostat_kanser_creator(b)"
      ],
      "execution_count": null,
      "outputs": []
    },
    {
      "cell_type": "code",
      "metadata": {
        "id": "NaQ9sdtACiqu"
      },
      "source": [
        "import concurrent\n",
        "t1=time.time()\n",
        "with concurrent.futures.ProcessPoolExecutor() as execut:\n",
        "  b_res=[execut.submit(prostat_kanser_creator,i.strip()) for i in memurnet_prostat_kanser_links]\n",
        "print(time.time()-t1)"
      ],
      "execution_count": null,
      "outputs": []
    },
    {
      "cell_type": "code",
      "metadata": {
        "id": "BI16trjyDHUv"
      },
      "source": [
        "t1=time.time()\n",
        "with concurrent.futures.ProcessPoolExecutor() as execut:\n",
        "  b_res=[execut.submit(meme_kanser_creator,i.strip()) for i in memurnet_meme_kanser_links]\n",
        "print(time.time()-t1)"
      ],
      "execution_count": null,
      "outputs": []
    },
    {
      "cell_type": "code",
      "metadata": {
        "id": "Zfzhx4OMDRWP"
      },
      "source": [
        "t1=time.time()\n",
        "with concurrent.futures.ProcessPoolExecutor() as execut:\n",
        "  b_res=[execut.submit(kanser_creator,i.strip()) for i in memurnet_kanser_links]\n",
        "print(time.time()-t1)"
      ],
      "execution_count": null,
      "outputs": []
    },
    {
      "cell_type": "code",
      "metadata": {
        "colab": {
          "base_uri": "https://localhost:8080/"
        },
        "id": "wqW02qsIsSZa",
        "outputId": "5eed7b04-b37e-47bd-b914-6bebbeaf5c29"
      },
      "source": [
        "# link =\"https://www.memurlar.net/arama/?SearchText=meme+kanseri&SearchLocation=all&IsHeadline=&NewsCategories=434&FirstDate=2004-01-01&LastDate=2004-12-31&City=\"\n",
        "# html = requests.get(link).content\n",
        "# soup = BeautifulSoup(html,\"html.parser\")\n",
        "# links = soup.find(\"div\",{\"class\":\"Content List\"}).find_all(\"a\")\n",
        "# href = \"\"\n",
        "# if not links:\n",
        "#   print(\"aaa\")\n",
        "# else:\n",
        "#   for i in links :\n",
        "#     href = i.get(\"href\")\n",
        "#     href =\"https://www.memurlar.net\"+href\n",
        "#     print(href)\n"
      ],
      "execution_count": null,
      "outputs": [
        {
          "output_type": "stream",
          "text": [
            "https://www.memurlar.net/haber/13051/ssk-yi-estetik-protez-vermeye-mahk-m-ettirdi.html\n",
            "https://www.memurlar.net/haber/12187/gercek-azinlik-raporu-kocaeli-universitesi-nden.html\n",
            "https://www.memurlar.net/haber/9917/ssk-ta-karsi-sutyen-zaferi.html\n"
          ],
          "name": "stdout"
        }
      ]
    },
    {
      "cell_type": "code",
      "metadata": {
        "colab": {
          "base_uri": "https://localhost:8080/"
        },
        "id": "8AtrdTfD-5UP",
        "outputId": "8c1661ea-00f0-4fd8-ffb1-fd564317ba9b"
      },
      "source": [
        "# url= \"https://www.memurlar.net/haber/110176/dikkat-d-vitamini-eksikligi-olum-riskini-artiriyor.html\"\n",
        "# html = requests.get(url).content\n",
        "# soup = BeautifulSoup(html,\"html.parser\")\n",
        "# categori = soup.find(\"div\",{\"class\":\"ParentCategories\"}).find_all(\"a\")\n",
        "# for i in categori :\n",
        "#   cat= i.getText()\n",
        "# print(cat)\n"
      ],
      "execution_count": null,
      "outputs": [
        {
          "output_type": "stream",
          "text": [
            "Sağlık\n"
          ],
          "name": "stdout"
        }
      ]
    },
    {
      "cell_type": "code",
      "metadata": {
        "id": "2bGHVq-65qsz"
      },
      "source": [
        "#  meme_kanser_link = \"https://www.memurlar.net/arama/?SearchText=meme+kanseri&SearchLocation=all&IsHeadline=&NewsCategories=434&FirstDate=2004-01-01&LastDate=2004-12-31&City=\"\n",
        "#  html = requests.get(meme_kanser_link).content\n",
        "#  soup = BeautifulSoup(html,\"html.parser\")\n",
        "#  links = soup.find(\"div\",{\"class\":\"Content List\"}).find_all(\"a\").get(\"href\")\n",
        "#  for i in links :\n",
        "#    href = i.get(\"href\")\n",
        "#                                                                      #Pagelerin içindeki linkleri alma çalışıyor...\n"
      ],
      "execution_count": null,
      "outputs": []
    },
    {
      "cell_type": "code",
      "metadata": {
        "colab": {
          "base_uri": "https://localhost:8080/"
        },
        "id": "RkkOk_CF_WX1",
        "outputId": "7dc66446-b031-451d-f2ba-2f97e10ac410"
      },
      "source": [
        "# link =\"https://www.memurlar.net/haber/13051/ssk-yi-estetik-protez-vermeye-mahk-m-ettirdi.html\"\n",
        "# html = requests.get(link).content                                                                    #Çalışıyor..İçerik Başlık kısmı\n",
        "# soup = BeautifulSoup(html,\"html.parser\")\n",
        "# title = soup.find(\"div\",{\"class\":\"DetailPage\"}).find(\"h1\").getText()\n",
        "# print(title)"
      ],
      "execution_count": null,
      "outputs": [
        {
          "output_type": "stream",
          "text": [
            "SSK'yı estetik protez vermeye mahkûm ettirdi\n"
          ],
          "name": "stdout"
        }
      ]
    },
    {
      "cell_type": "code",
      "metadata": {
        "colab": {
          "base_uri": "https://localhost:8080/"
        },
        "id": "tKwk2rFY9XXq",
        "outputId": "333fa508-7918-4312-9cd3-38e99e8ce6d1"
      },
      "source": [
        "link =\"https://www.memurlar.net/haber/13051/ssk-yi-estetik-protez-vermeye-mahk-m-ettirdi.html\"\n",
        "\n",
        "html = requests.get(link).content\n",
        "\n",
        "soup = BeautifulSoup(html,\"html.parser\")\n",
        "\n",
        "content = soup.find(\"div\",{\"class\":\"NewsDetail\"}).find_all(\"p\")\n",
        "content_string = \"\"\n",
        "content_array = []\n",
        "print(content)\n",
        "\n",
        "for w in content:\n",
        "  content_string = w.getText().strip(\"googletag.cmd.push(function() { googletag.display('div-gpt-ad-1560331211068-1'); })\")\n",
        "print(content_string)\n",
        "  \n",
        "#   content_array.append(w.getText().strip(\"googletag.cmd.push(function() { googletag.display('div-gpt-ad-1560331211068-1'); })\"))\n",
        "# print(content_array)\n",
        "\n",
        "\n",
        "\n",
        "  \n"
      ],
      "execution_count": 97,
      "outputs": [
        {
          "output_type": "stream",
          "text": [
            "[<p>Meme protezi talebini 'estetik' kaleme girdiği gerekçesiyle geri çeviren SKK'yı \r\n",
            "  mahkûm ettiren kanser hastası Gülsen Özdemir, \"Bunu, haksızlığa uğrayan \r\n",
            "  tüm SSK'lı kadınlar için yaptım\" dedi. </p>, <p>Kanser hastası Gülsen Özdemir, meme protezi vermeyi 'estetik' kaleme girdiği \r\n",
            "  gerekçiyle geri çeviren SSK'yı mahkeme kararıyla protez vermeye mahkum ettirdi. \r\n",
            "  Meme protezini karardan önce kendi imkanlarıyla temin eden Av. Özdemir, \"Bunu \r\n",
            "  haksızlığa uğrayan tüm SSK'lı kadın hastalar için yaptım\" dedi. </p>, <p>1996'da yakalandığı meme kanseri sonucu iki göğsü alınan avukat Gülsen Özdemir, \r\n",
            "  2001 yılında sol göğsü alındıktan sonra doktorundan cepli sutyen ve dış protez \r\n",
            "  kullanması gerektiği yönünde rapor aldı. Raporun ardından SSK Bölge Müdürlüğü'ne \r\n",
            "  başvurdu. Başvurusunda, talebinin \"estetik\" mahiyette olduğu cevabıyla \r\n",
            "  karşılaşan ve geri çevrilen Özdemir, Emekli Sandığı'nın ve Bağ-Kur'un karşıladığı \r\n",
            "  bu talebi, SSK'nın karşılamaması üzerine hakkını yasal yollardan aramaya karar \r\n",
            "  verdi. </p>, <p>SSK mahkum edildi </p>, <p><div style=\"display:block; float:none; clear:both; width:100%\"> <div id=\"div-gpt-ad-1560331211068-0\"><script>googletag.cmd.push(function() { googletag.display('div-gpt-ad-1560331211068-0'); });</script></div></div></p>, <p>Bursa İkinci İş Mahkemesi'nde SSK aleyhine açtığı davayı kazandıktan sonra \r\n",
            "  SSK'nın acil düzenlediği bir ihale ile protezine kavuşan Özdemir, \"Ben \r\n",
            "  kendi imkanlarımla protez alıp, davayı kazanınca da SSK'dan parasını tahsil \r\n",
            "  edebilirdim. Ama amacım para almak değildi. Sağlık kurumunun ihtiyacım olan \r\n",
            "  tedavi hizmetini sunmasıydı\" dedi. Bu alanda mücadelesini devam ettirdiğini \r\n",
            "  belirten Gülsen Özdemir, \"Ben bunu sadece kendim için yapmadım. Bu haksızlığa \r\n",
            "  uğrayan tüm SSK'lı kadınlar için yaptım. Şimdi çeşitli kurumlarla birlikte bu \r\n",
            "  kararın genelleştirilmesi için mücadele ediyorum\" diye konuştu. </p>, <p>Fizik tedavi görüyorum </p>, <p>Hastalıkla mücadelesini başarılı bir şekilde sürdüren Özdemir, yaklaşık bir \r\n",
            "  yıldır da sol kolundaki rahatsızlıklar nedeniyle doktora gitmeye başladı. Görüştüğü \r\n",
            "  doktorlardan kanserli hastalarda kol şişmelerinin normal olduğu cevabını alan \r\n",
            "  ama bir süre sonra kolunu kullanamaz hale gelen Özdemir, yaptığı araştırmalar \r\n",
            "  neticesinde kolunda lenf ödem rahatsızlığı meydana geldiğini ve fizik tedavi \r\n",
            "  görmesi gerekteğini fark etti. </p>, <p>Bursa SSK Hastanesi Fizik Tedavi ve Rehabilitasyon Merkezi'nin bu tedavi için \r\n",
            "  yeterli olmadığını öğrenen Özdemir, fizik tedavi görmek için sevk istediğinde \r\n",
            "  \"Sizi bu konuda hiçbir yere sevkedemeyiz\" cevabı ile karşılaştı. Kendi \r\n",
            "  imkanlarıyla İstanbul'a gelerek burada tedavi görmeye başlayan Özdemir, \"Biraz \r\n",
            "  dinlendikten sonra bu konuda da yasal mücadele vereceğim. Kazanacağımdan eminim\" \r\n",
            "  dedi. </p>, <p>Lenf sıvısı dolaşımı bozuluyor</p>, <p><div style=\"display:block; float:none; clear:both; width:100%\"> <div id=\"div-gpt-ad-1560331211068-1\"><script>googletag.cmd.push(function() { googletag.display('div-gpt-ad-1560331211068-1'); });</script></div></div></p>, <p>Gülsen Özdemir'in kolundaki lenf ödem rahatsızlığını tedavi eden Fizik Tedavi \r\n",
            "  ve Rehabilitasyon Uzmanı Vildan Çerçi, göğsü alınan veya radyoterapi gören hastalarda \r\n",
            "  lenf yollarının hasar görmesi sonucunda lenf sıvısının dolaşımının bozulduğunu \r\n",
            "  bu nedenle bu hastalığın ortaya çıktığını belirtti. Çerçi, hastaların kolda \r\n",
            "  şişme ya da ağrı, uyuşma gibi rahatsızlık duyduklarında hemen lenf ödemle ilgilenen \r\n",
            "  bir merkeze başvurması gerektiğini belirtti. </p>, <p></p>, <p>yenişafak</p>]\n",
            "şafak\n"
          ],
          "name": "stdout"
        }
      ]
    },
    {
      "cell_type": "code",
      "metadata": {
        "colab": {
          "base_uri": "https://localhost:8080/"
        },
        "id": "AQcXAu_aGrpZ",
        "outputId": "e6b9376f-7d34-4a30-895f-956356bedd42"
      },
      "source": [
        "# link =\"https://www.memurlar.net/haber/13051/ssk-yi-estetik-protez-vermeye-mahk-m-ettirdi.html\"\n",
        "# html = requests.get(link).content\n",
        "# soup = BeautifulSoup(html,\"html.parser\")\n",
        "# date = soup.find(\"table\",{\"style\":\"border-bottom:1px dotted #d7d7d7; padding:3px 0; margin:10px 0;\"}).find(\"span\",{\"class\":\"Date\"}).getText() #Çalışıyor\n",
        "# date = date[:-6]\n",
        "# print(date)                                                             #Çalışıyor Haberlerin tarih kısmı "
      ],
      "execution_count": null,
      "outputs": [
        {
          "output_type": "stream",
          "text": [
            "07 Aralık 2004\n"
          ],
          "name": "stdout"
        }
      ]
    }
  ]
}