{
  "nbformat": 4,
  "nbformat_minor": 0,
  "metadata": {
    "colab": {
      "name": "Memurlar.net.ipynb adlı not defterinin kopyası",
      "provenance": [],
      "collapsed_sections": [],
      "authorship_tag": "ABX9TyOXvSEDs3ATsvpiDGgty8Wt",
      "include_colab_link": true
    },
    "kernelspec": {
      "display_name": "Python 3",
      "name": "python3"
    },
    "language_info": {
      "name": "python"
    }
  },
  "cells": [
    {
      "cell_type": "markdown",
      "metadata": {
        "id": "view-in-github",
        "colab_type": "text"
      },
      "source": [
        "<a href=\"https://colab.research.google.com/github/doukansurel/takvimyeni/blob/main/Memurlar_net_ipynb_adl%C4%B1_not_defterinin_kopyas%C4%B1.ipynb\" target=\"_parent\"><img src=\"https://colab.research.google.com/assets/colab-badge.svg\" alt=\"Open In Colab\"/></a>"
      ]
    },
    {
      "cell_type": "code",
      "metadata": {
        "id": "wlGScHGx5GQf"
      },
      "source": [
        "import os\n",
        "import bs4\n",
        "import requests\n",
        "from bs4 import BeautifulSoup\n",
        "import pandas as pd\n",
        "import numpy as np\n",
        "import os\n",
        "import time\n",
        "import urllib.request\n",
        "import re\n",
        "import urllib3\n",
        "from pandas import DataFrame\n",
        "import csv\n",
        "import datetime\n",
        "from datetime import datetime, timedelta ,date"
      ],
      "execution_count": null,
      "outputs": []
    },
    {
      "cell_type": "code",
      "metadata": {
        "id": "BvIbtt7jNnw4"
      },
      "source": [
        "\n",
        "def date_creator():\n",
        "  t1 = datetime(2003,1,1)\n",
        "  t2 = datetime(2021,7,28)\n",
        "  link3 =\"https://www.memurlar.net/arama/?SearchText=meme+kanseri&SearchLocation=all&IsHeadline=&NewsCategories=434&FirstDate={}&LastDate={}&City=\"\n",
        "  link1=\"https://www.memurlar.net/arama/?SearchText=kanser&SearchLocation=all&IsHeadline=&NewsCategories=3&FirstDate={}&LastDate={}&City=\"\n",
        "  link2=\"https://www.memurlar.net/arama/?SearchText=prostat+kanseri&SearchLocation=all&IsHeadline=&NewsCategories=3&FirstDate={}&LastDate={}&City=\"\n",
        "\n",
        "  t= timedelta(days = 1)\n",
        "  link_categories=\"\"\n",
        "  generate_url=\"\"\n",
        "  dates=np.arange(t1, t2, t).astype(datetime)\n",
        "  for j in dates:\n",
        "    lnk1=(link1.format(j.strftime('%Y-%m-%d') ,j.strftime('%Y-%m-%d') ))\n",
        "    \n",
        "    lnk2=(link2.format(j.strftime('%Y-%m-%d') ,j.strftime('%Y-%m-%d')))\n",
        "    lnk3=(link3.format(j.strftime('%Y-%m-%d') ,j.strftime('%Y-%m-%d')))\n",
        "    kanser_pages.append(lnk1)\n",
        "    prostat_kanseri_pages.append(lnk2)\n",
        "    meme_kanseri_pages.append(lnk3)\n",
        "\n",
        "    "
      ],
      "execution_count": null,
      "outputs": []
    },
    {
      "cell_type": "code",
      "metadata": {
        "id": "ehSz4kC5R9hn"
      },
      "source": [
        "kanser_pages=[]\n",
        "meme_kanseri_pages=[]\n",
        "prostat_kanseri_pages=[]\n",
        "date_creator()"
      ],
      "execution_count": null,
      "outputs": []
    },
    {
      "cell_type": "code",
      "metadata": {
        "id": "g0Xr959jKZWD"
      },
      "source": [
        "meme_kanser_links = []\n",
        "prostat_kanser_links = []\n",
        "kanser_links = []"
      ],
      "execution_count": null,
      "outputs": []
    },
    {
      "cell_type": "code",
      "metadata": {
        "id": "TgUcRbEFVN8N"
      },
      "source": [
        "def kanser_get_link(link):\n",
        "  html = requests.get(link).content\n",
        "  soup = BeautifulSoup(html,\"html.parser\")\n",
        "  links = soup.find(\"div\",{\"class\":\"Content List\"}).find_all(\"a\")\n",
        "  href = \"\"\n",
        "  for i in links:\n",
        "    if i == \"\":\n",
        "      break\n",
        "    else:\n",
        "      href = i.get(\"href\")\n",
        "      href =\"https://www.memurlar.net\"+href\n",
        "      with open(\"memurlarnet_Kanser_Links.txt\",\"a\",encoding=\"utf-8\")as file:\n",
        "        file.write(href+\"\\n\")"
      ],
      "execution_count": null,
      "outputs": []
    },
    {
      "cell_type": "code",
      "metadata": {
        "id": "BCqeyy425JCB"
      },
      "source": [
        "def meme_kanser_get_link(link):\n",
        "  html = requests.get(link).content\n",
        "  soup = BeautifulSoup(html,\"html.parser\")\n",
        "  links = soup.find(\"div\",{\"class\":\"Content List\"}).find_all(\"a\")\n",
        "  href = \"\"\n",
        "  for i in links:\n",
        "    if i == \"\":      \n",
        "      break\n",
        "    else:\n",
        "      href = i.get(\"href\")\n",
        "      href =\"https://www.memurlar.net\"+href\n",
        "      with open(\"memurlarnet_Meme_Kanseri_Links.txt\",\"a\",encoding=\"utf-8\")as file:\n",
        "        file.write(href+\"\\n\")"
      ],
      "execution_count": null,
      "outputs": []
    },
    {
      "cell_type": "code",
      "metadata": {
        "id": "DWUC04Ei5UpA"
      },
      "source": [
        "def prostat_kanser_get_link(link):\n",
        "  html = requests.get(link).content\n",
        "  soup = BeautifulSoup(html,\"html.parser\")\n",
        "  links = soup.find(\"div\",{\"class\":\"Content List\"}).find_all(\"a\")\n",
        "  href = \"\"\n",
        "  for i in links:\n",
        "    if i == \"\":      \n",
        "      break\n",
        "    else:\n",
        "      href = i.get(\"href\")\n",
        "      href =\"https://www.memurlar.net\"+href\n",
        "      with open(\"memurlarnet_Prostat_Kanseri_Links.txt\",\"a\",encoding=\"utf-8\")as file:\n",
        "        file.write(href+\"\\n\")"
      ],
      "execution_count": null,
      "outputs": []
    },
    {
      "cell_type": "code",
      "metadata": {
        "id": "w7PdVE8sQUJM"
      },
      "source": [
        "for i in prostat_kanseri_pages[:180]:\n",
        "  prostat_kanser_get_link(i)\n",
        "for i in meme_kanseri_pages[:180]:\n",
        "  meme_kanser_get_link(i)\n",
        "for i in kanser_pages[:180]:\n",
        "  kanser_get_link(i)"
      ],
      "execution_count": null,
      "outputs": []
    },
    {
      "cell_type": "code",
      "metadata": {
        "id": "jhXWHEFwtRkt"
      },
      "source": [
        "import concurrent\n",
        "t1=time.time()\n",
        "with concurrent.futures.ProcessPoolExecutor() as execut:\n",
        "  b_res=[execut.submit(kanser_get_link,i.strip()) for i in kanser_pages]\n",
        "print(time.time()-t1)"
      ],
      "execution_count": null,
      "outputs": []
    },
    {
      "cell_type": "code",
      "metadata": {
        "id": "I6zGqAzk5cMS"
      },
      "source": [
        "import concurrent\n",
        "t1=time.time()\n",
        "with concurrent.futures.ProcessPoolExecutor() as execut:\n",
        "  b_res=[execut.submit(meme_kanser_get_link,i.strip()) for i in meme_kanseri_pages]\n",
        "print(time.time()-t1)"
      ],
      "execution_count": null,
      "outputs": []
    },
    {
      "cell_type": "code",
      "metadata": {
        "id": "rvnHBAx85jv1"
      },
      "source": [
        "import concurrent\n",
        "t1=time.time()\n",
        "with concurrent.futures.ProcessPoolExecutor() as execut:\n",
        "  b_res=[execut.submit(prostat_kanser_get_link,i.strip()) for i in prostat_kanseri_pages]\n",
        "print(time.time()-t1)\n"
      ],
      "execution_count": null,
      "outputs": []
    },
    {
      "cell_type": "code",
      "metadata": {
        "id": "OPo9CyvcC_kN"
      },
      "source": [
        "memurnet_kanser_links=[]\n",
        "memurnet_meme_kanser_links=[]\n",
        "memurnet_prostat_kanser_links=[]"
      ],
      "execution_count": null,
      "outputs": []
    },
    {
      "cell_type": "code",
      "metadata": {
        "id": "HpFhBIab6Ii0"
      },
      "source": [
        "with open(\"memurlarnet_Kanser_Links.txt\",'r',newline='') as f:\n",
        "  for i in f.readlines():    \n",
        "  # reader=csv.reader(f)\n",
        "    memurnet_kanser_links.append(i)"
      ],
      "execution_count": null,
      "outputs": []
    },
    {
      "cell_type": "code",
      "metadata": {
        "id": "KyDVBTJ-6OO5"
      },
      "source": [
        "\n",
        "with open(\"memurlarnet_Meme_Kanseri_Links.txt\",'r',newline='') as f:\n",
        "  for i in f.readlines():    \n",
        "  # reader=csv.reader(f)\n",
        "    memurnet_meme_kanser_links.append(i)"
      ],
      "execution_count": null,
      "outputs": []
    },
    {
      "cell_type": "code",
      "metadata": {
        "id": "w0CWU3iE6ZFC"
      },
      "source": [
        "with open(\"memurlarnet_Prostat_Kanseri_Links.txt\",'r',newline='') as f:\n",
        "  for i in f.readlines():    \n",
        "  # reader=csv.reader(f)\n",
        "    memurnet_prostat_kanser_links.append(i)"
      ],
      "execution_count": null,
      "outputs": []
    },
    {
      "cell_type": "code",
      "metadata": {
        "id": "4Bprz58R53Yl"
      },
      "source": [
        "def kanser_creator(url):\n",
        "  link =\"https://www.memurlar.net/haber/13051/ssk-yi-estetik-protez-vermeye-mahk-m-ettirdi.html\"\n",
        "  html = requests.get(link).content                                                                   \n",
        "  soup = BeautifulSoup(html,\"html.parser\")\n",
        "  content_string = \"\"\n",
        "  href =\"\"\n",
        "  title = soup.find(\"div\",{\"class\":\"DetailPage\"}).find(\"h1\").getText()\n",
        "  content = soup.find(\"div\",{\"class\":\"NewsDetail\"}).find_all(\"p\")\n",
        "  h=\"\"\n",
        "  z=\"\"\n",
        "  for w in content:\n",
        "    w=w.getText().replace(\" \",\" \")\n",
        "    z=\" \".join(w.split())\n",
        "    h+=z\n",
        "    h=h.strip(\"googletag.cmd.push(function() { googletag.display('div-gpt-ad-1560331211068-1'); })\")\n",
        "  date = soup.find(\"table\",{\"style\":\"border-bottom:1px dotted #d7d7d7; padding:3px 0; margin:10px 0;\"}).find(\"span\",{\"class\":\"Date\"}).getText() \n",
        "  date = date[:-6]\n",
        "  categori = soup.find(\"div\",{\"class\":\"ParentCategories\"}).find_all(\"a\")\n",
        "  for i in categori :\n",
        "    cat= i.getText()\n",
        "\n",
        "  with open(\"memurlarnet_Kanser_Cont\",\"a\",encoding=\"utf-8\") as file :\n",
        "    sentence = \"{} ; {} ; {} ; {} ; {}\".format(url,cat,date,title,h)\n",
        "    file.write(sentence+\"\\n\")"
      ],
      "execution_count": null,
      "outputs": []
    },
    {
      "cell_type": "code",
      "metadata": {
        "id": "1HFF8Q4VCZPn"
      },
      "source": [
        "def meme_kanser_creator(url):\n",
        "  link =\"https://www.memurlar.net/haber/13051/ssk-yi-estetik-protez-vermeye-mahk-m-ettirdi.html\"\n",
        "  html = requests.get(link).content                                                                    \n",
        "  soup = BeautifulSoup(html,\"html.parser\")\n",
        "  content_string = \"\"\n",
        "  href =\"\"\n",
        "  title = soup.find(\"div\",{\"class\":\"DetailPage\"}).find(\"h1\").getText()\n",
        "  content = soup.find(\"div\",{\"class\":\"NewsDetail\"}).find_all(\"p\")                                 \n",
        "  h=\"\"\n",
        "  z=\"\"\n",
        "  for w in content:\n",
        "    w=w.getText().replace(\" \",\" \")\n",
        "    z=\" \".join(w.split())\n",
        "    h+=z\n",
        "    h=h.strip(\"googletag.cmd.push(function() { googletag.display('div-gpt-ad-1560331211068-1'); })\")\n",
        "  date = soup.find(\"table\",{\"style\":\"border-bottom:1px dotted #d7d7d7; padding:3px 0; margin:10px 0;\"}).find(\"span\",{\"class\":\"Date\"}).getText() #Çalışıyor\n",
        "  date = date[:-6]\n",
        "  categori = soup.find(\"div\",{\"class\":\"ParentCategories\"}).find_all(\"a\")\n",
        "  for i in categori :\n",
        "    cat= i.getText()\n",
        "\n",
        "  with open(\"memurlarnet_Meme_Kanser_Cont\",\"a\",encoding=\"utf-8\") as file :\n",
        "    sentence = \"{} ; {} ; {} ; {} ; {}\".format(url,cat,date,title,h)\n",
        "    file.write(sentence+\"\\n\")\n"
      ],
      "execution_count": null,
      "outputs": []
    },
    {
      "cell_type": "code",
      "metadata": {
        "id": "W1bWNnuUCfGk"
      },
      "source": [
        "def prostat_kanser_creator(url):\n",
        "  link =\"https://www.memurlar.net/haber/13051/ssk-yi-estetik-protez-vermeye-mahk-m-ettirdi.html\"\n",
        "  html = requests.get(link).content                                                                    \n",
        "  soup = BeautifulSoup(html,\"html.parser\")\n",
        "  content_string = \"\"\n",
        "  content_array = []\n",
        "  href =\"\"\n",
        "  title = soup.find(\"div\",{\"class\":\"DetailPage\"}).find(\"h1\").getText()\n",
        "  content = soup.find(\"div\",{\"class\":\"NewsDetail\"}).find_all(\"p\")                                \n",
        "  h=\"\"\n",
        "  z=\"\"\n",
        "  for w in content:\n",
        "    w=w.getText().replace(\" \",\" \")\n",
        "    z=\" \".join(w.split())\n",
        "    h+=z\n",
        "    h=h.strip(\"googletag.cmd.push(function() { googletag.display('div-gpt-ad-1560331211068-1'); })\")\n",
        "  date = soup.find(\"table\",{\"style\":\"border-bottom:1px dotted #d7d7d7; padding:3px 0; margin:10px 0;\"}).find(\"span\",{\"class\":\"Date\"}).getText() #Çalışıyor\n",
        "  date = date[:-6]\n",
        "  categori = soup.find(\"div\",{\"class\":\"ParentCategories\"}).find_all(\"a\")\n",
        "  for i in categori :\n",
        "    cat= i.getText()\n",
        "\n",
        "  with open(\"memurlarnet_Prostat_Kanser_Cont\",\"a\",encoding=\"utf-8\") as file :\n",
        "    sentence = \"{} ; {} ; {} ; {} ; {}\".format(url,cat,date,title,h)\n",
        "    file.write(sentence+\"\\n\")"
      ],
      "execution_count": null,
      "outputs": []
    },
    {
      "cell_type": "code",
      "metadata": {
        "id": "h_pOE7BhUv9y"
      },
      "source": [
        "for i in memurnet_kanser_links:\n",
        "  kanser_creator(i)\n",
        "for a in memurnet_meme_kanser_links:\n",
        "  meme_kanser_creator(a)\n",
        "for b in memurnet_prostat_kanser_links:\n",
        "  prostat_kanser_creator(b)"
      ],
      "execution_count": null,
      "outputs": []
    },
    {
      "cell_type": "code",
      "metadata": {
        "id": "NaQ9sdtACiqu"
      },
      "source": [
        "import concurrent\n",
        "t1=time.time()\n",
        "with concurrent.futures.ProcessPoolExecutor() as execut:\n",
        "  b_res=[execut.submit(prostat_kanser_creator,i.strip()) for i in memurnet_prostat_kanser_links]\n",
        "print(time.time()-t1)"
      ],
      "execution_count": null,
      "outputs": []
    },
    {
      "cell_type": "code",
      "metadata": {
        "id": "BI16trjyDHUv"
      },
      "source": [
        "t1=time.time()\n",
        "with concurrent.futures.ProcessPoolExecutor() as execut:\n",
        "  b_res=[execut.submit(meme_kanser_creator,i.strip()) for i in memurnet_meme_kanser_links]\n",
        "print(time.time()-t1)"
      ],
      "execution_count": null,
      "outputs": []
    },
    {
      "cell_type": "code",
      "metadata": {
        "id": "Zfzhx4OMDRWP"
      },
      "source": [
        "t1=time.time()\n",
        "with concurrent.futures.ProcessPoolExecutor() as execut:\n",
        "  b_res=[execut.submit(kanser_creator,i.strip()) for i in memurnet_kanser_links]\n",
        "print(time.time()-t1)"
      ],
      "execution_count": null,
      "outputs": []
    },
    {
      "cell_type": "code",
      "metadata": {
        "colab": {
          "base_uri": "https://localhost:8080/"
        },
        "id": "wqW02qsIsSZa",
        "outputId": "5eed7b04-b37e-47bd-b914-6bebbeaf5c29"
      },
      "source": [
        "# link =\"https://www.memurlar.net/arama/?SearchText=meme+kanseri&SearchLocation=all&IsHeadline=&NewsCategories=434&FirstDate=2004-01-01&LastDate=2004-12-31&City=\"\n",
        "# html = requests.get(link).content\n",
        "# soup = BeautifulSoup(html,\"html.parser\")\n",
        "# links = soup.find(\"div\",{\"class\":\"Content List\"}).find_all(\"a\")\n",
        "# href = \"\"\n",
        "# if not links:\n",
        "#   print(\"aaa\")\n",
        "# else:\n",
        "#   for i in links :\n",
        "#     href = i.get(\"href\")\n",
        "#     href =\"https://www.memurlar.net\"+href\n",
        "#     print(href)\n"
      ],
      "execution_count": null,
      "outputs": [
        {
          "output_type": "stream",
          "text": [
            "https://www.memurlar.net/haber/13051/ssk-yi-estetik-protez-vermeye-mahk-m-ettirdi.html\n",
            "https://www.memurlar.net/haber/12187/gercek-azinlik-raporu-kocaeli-universitesi-nden.html\n",
            "https://www.memurlar.net/haber/9917/ssk-ta-karsi-sutyen-zaferi.html\n"
          ],
          "name": "stdout"
        }
      ]
    },
    {
      "cell_type": "code",
      "metadata": {
        "colab": {
          "base_uri": "https://localhost:8080/"
        },
        "id": "8AtrdTfD-5UP",
        "outputId": "8c1661ea-00f0-4fd8-ffb1-fd564317ba9b"
      },
      "source": [
        "# url= \"https://www.memurlar.net/haber/110176/dikkat-d-vitamini-eksikligi-olum-riskini-artiriyor.html\"\n",
        "# html = requests.get(url).content\n",
        "# soup = BeautifulSoup(html,\"html.parser\")\n",
        "# categori = soup.find(\"div\",{\"class\":\"ParentCategories\"}).find_all(\"a\")\n",
        "# for i in categori :\n",
        "#   cat= i.getText()\n",
        "# print(cat)\n"
      ],
      "execution_count": null,
      "outputs": [
        {
          "output_type": "stream",
          "text": [
            "Sağlık\n"
          ],
          "name": "stdout"
        }
      ]
    },
    {
      "cell_type": "code",
      "metadata": {
        "id": "2bGHVq-65qsz"
      },
      "source": [
        "#  meme_kanser_link = \"https://www.memurlar.net/arama/?SearchText=meme+kanseri&SearchLocation=all&IsHeadline=&NewsCategories=434&FirstDate=2004-01-01&LastDate=2004-12-31&City=\"\n",
        "#  html = requests.get(meme_kanser_link).content\n",
        "#  soup = BeautifulSoup(html,\"html.parser\")\n",
        "#  links = soup.find(\"div\",{\"class\":\"Content List\"}).find_all(\"a\").get(\"href\")\n",
        "#  for i in links :\n",
        "#    href = i.get(\"href\")\n",
        "#                                                                      #Pagelerin içindeki linkleri alma çalışıyor...\n"
      ],
      "execution_count": null,
      "outputs": []
    },
    {
      "cell_type": "code",
      "metadata": {
        "colab": {
          "base_uri": "https://localhost:8080/"
        },
        "id": "RkkOk_CF_WX1",
        "outputId": "7dc66446-b031-451d-f2ba-2f97e10ac410"
      },
      "source": [
        "# link =\"https://www.memurlar.net/haber/13051/ssk-yi-estetik-protez-vermeye-mahk-m-ettirdi.html\"\n",
        "# html = requests.get(link).content                                                                    #Çalışıyor..İçerik Başlık kısmı\n",
        "# soup = BeautifulSoup(html,\"html.parser\")\n",
        "# title = soup.find(\"div\",{\"class\":\"DetailPage\"}).find(\"h1\").getText()\n",
        "# print(title)"
      ],
      "execution_count": null,
      "outputs": [
        {
          "output_type": "stream",
          "text": [
            "SSK'yı estetik protez vermeye mahkûm ettirdi\n"
          ],
          "name": "stdout"
        }
      ]
    },
    {
      "cell_type": "code",
      "metadata": {
        "colab": {
          "base_uri": "https://localhost:8080/"
        },
        "id": "tKwk2rFY9XXq",
        "outputId": "6fe1b730-1561-4e13-d6f7-a8ac666e5f52"
      },
      "source": [
        "# link =\"https://www.memurlar.net/haber/13051/ssk-yi-estetik-protez-vermeye-mahk-m-ettirdi.html\"\n",
        "\n",
        "# html = requests.get(link).content\n",
        "\n",
        "# soup = BeautifulSoup(html,\"html.parser\")\n",
        "# title = soup.find(\"div\",{\"class\":\"DetailPage\"}).find(\"h1\").getText()\n",
        "\n",
        "# content = soup.find(\"span\",{\"id\":\"news_detailContainer\"}).find_all(\"p\")\n",
        "# date = soup.find(\"table\",{\"style\":\"border-bottom:1px dotted #d7d7d7; padding:3px 0; margin:10px 0;\"}).find(\"span\",{\"class\":\"Date\"}).getText() #Çalışıyor\n",
        "# date = date[:-6]\n",
        "# categori = soup.find(\"div\",{\"class\":\"ParentCategories\"}).find_all(\"a\")\n",
        "# for i in categori :\n",
        "#   cat= i.getText()\n",
        "# # print(content)\n",
        "# h=\"\"\n",
        "# z=\"\"\n",
        "# for w in content:\n",
        "#   w=w.getText().replace(\" \",\" \")\n",
        "#   z=\" \".join(w.split())\n",
        "#   h+=z#.strip()\n",
        "\n",
        "#   # if (h.endswith('  \\n\\r ')):\n",
        "#     # h=h[:-7]\n",
        "# h=h.strip(\"googletag.cmd.push(function() { googletag.display('div-gpt-ad-1560331211068-1'); })\")\n",
        "# # print(h)\n",
        "# #     content_array.append(h.strip(\"googletag.cmd.push(function() { googletag.display('div-gpt-ad-1560331211068-1'); })\"))\n",
        "# # print(content_array)\n",
        "# sentence = \"{} ; {} ; {} ; {} ; {}\".format(link,cat,date,title,h)\n",
        "# # with open(\"deneme_Cont\",\"a\",encoding=\"utf-8\") as file :\n",
        "# #     sentence = \"{}\".format(h)\n",
        "# #     file.write(sentence)\n",
        "\n",
        "# print(sentence+\"\\n\")\n",
        "  \n",
        "# # \\n\\r"
      ],
      "execution_count": null,
      "outputs": [
        {
          "output_type": "stream",
          "text": [
            "https://www.memurlar.net/haber/13051/ssk-yi-estetik-protez-vermeye-mahk-m-ettirdi.html ; Haberler ; 07 Aralık 2004 ; SSK'yı estetik protez vermeye mahkûm ettirdi ; Meme protezi talebini 'estetik' kaleme girdiği gerekçesiyle geri çeviren SKK'yı mahkûm ettiren kanser hastası Gülsen Özdemir, \"Bunu, haksızlığa uğrayan tüm SSK'lı kadınlar için yaptım\" dedi.Kanser hastası Gülsen Özdemir, meme protezi vermeyi 'estetik' kaleme girdiği gerekçiyle geri çeviren SSK'yı mahkeme kararıyla protez vermeye mahkum ettirdi. Meme protezini karardan önce kendi imkanlarıyla temin eden Av. Özdemir, \"Bunu haksızlığa uğrayan tüm SSK'lı kadın hastalar için yaptım\" dedi.1996'da yakalandığı meme kanseri sonucu iki göğsü alınan avukat Gülsen Özdemir, 2001 yılında sol göğsü alındıktan sonra doktorundan cepli sutyen ve dış protez kullanması gerektiği yönünde rapor aldı. Raporun ardından SSK Bölge Müdürlüğü'ne başvurdu. Başvurusunda, talebinin \"estetik\" mahiyette olduğu cevabıyla karşılaşan ve geri çevrilen Özdemir, Emekli Sandığı'nın ve Bağ-Kur'un karşıladığı bu talebi, SSK'nın karşılamaması üzerine hakkını yasal yollardan aramaya karar verdi.SSK mahkum edildigoogletag.cmd.push(function() { googletag.display('div-gpt-ad-1560331211068-0'); });Bursa İkinci İş Mahkemesi'nde SSK aleyhine açtığı davayı kazandıktan sonra SSK'nın acil düzenlediği bir ihale ile protezine kavuşan Özdemir, \"Ben kendi imkanlarımla protez alıp, davayı kazanınca da SSK'dan parasını tahsil edebilirdim. Ama amacım para almak değildi. Sağlık kurumunun ihtiyacım olan tedavi hizmetini sunmasıydı\" dedi. Bu alanda mücadelesini devam ettirdiğini belirten Gülsen Özdemir, \"Ben bunu sadece kendim için yapmadım. Bu haksızlığa uğrayan tüm SSK'lı kadınlar için yaptım. Şimdi çeşitli kurumlarla birlikte bu kararın genelleştirilmesi için mücadele ediyorum\" diye konuştu.Fizik tedavi görüyorumHastalıkla mücadelesini başarılı bir şekilde sürdüren Özdemir, yaklaşık bir yıldır da sol kolundaki rahatsızlıklar nedeniyle doktora gitmeye başladı. Görüştüğü doktorlardan kanserli hastalarda kol şişmelerinin normal olduğu cevabını alan ama bir süre sonra kolunu kullanamaz hale gelen Özdemir, yaptığı araştırmalar neticesinde kolunda lenf ödem rahatsızlığı meydana geldiğini ve fizik tedavi görmesi gerekteğini fark etti.Bursa SSK Hastanesi Fizik Tedavi ve Rehabilitasyon Merkezi'nin bu tedavi için yeterli olmadığını öğrenen Özdemir, fizik tedavi görmek için sevk istediğinde \"Sizi bu konuda hiçbir yere sevkedemeyiz\" cevabı ile karşılaştı. Kendi imkanlarıyla İstanbul'a gelerek burada tedavi görmeye başlayan Özdemir, \"Biraz dinlendikten sonra bu konuda da yasal mücadele vereceğim. Kazanacağımdan eminim\" dedi.Lenf sıvısı dolaşımı bozuluyorgoogletag.cmd.push(function() { googletag.display('div-gpt-ad-1560331211068-1'); });Gülsen Özdemir'in kolundaki lenf ödem rahatsızlığını tedavi eden Fizik Tedavi ve Rehabilitasyon Uzmanı Vildan Çerçi, göğsü alınan veya radyoterapi gören hastalarda lenf yollarının hasar görmesi sonucunda lenf sıvısının dolaşımının bozulduğunu bu nedenle bu hastalığın ortaya çıktığını belirtti. Çerçi, hastaların kolda şişme ya da ağrı, uyuşma gibi rahatsızlık duyduklarında hemen lenf ödemle ilgilenen bir merkeze başvurması gerektiğini belirtti.yenişafak\n",
            "\n"
          ],
          "name": "stdout"
        }
      ]
    },
    {
      "cell_type": "code",
      "metadata": {
        "colab": {
          "base_uri": "https://localhost:8080/"
        },
        "id": "AQcXAu_aGrpZ",
        "outputId": "e6b9376f-7d34-4a30-895f-956356bedd42"
      },
      "source": [
        "# link =\"https://www.memurlar.net/haber/13051/ssk-yi-estetik-protez-vermeye-mahk-m-ettirdi.html\"\n",
        "# html = requests.get(link).content\n",
        "# soup = BeautifulSoup(html,\"html.parser\")\n",
        "# date = soup.find(\"table\",{\"style\":\"border-bottom:1px dotted #d7d7d7; padding:3px 0; margin:10px 0;\"}).find(\"span\",{\"class\":\"Date\"}).getText() #Çalışıyor\n",
        "# date = date[:-6]\n",
        "# print(date)                                                             #Çalışıyor Haberlerin tarih kısmı "
      ],
      "execution_count": null,
      "outputs": [
        {
          "output_type": "stream",
          "text": [
            "07 Aralık 2004\n"
          ],
          "name": "stdout"
        }
      ]
    }
  ]
}