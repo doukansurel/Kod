{
  "nbformat": 4,
  "nbformat_minor": 0,
  "metadata": {
    "colab": {
      "name": "hurriyetDailyLink.ipynb",
      "provenance": [],
      "collapsed_sections": [],
      "authorship_tag": "ABX9TyNGGsQMamSc0uSDzI+Hor4b",
      "include_colab_link": true
    },
    "kernelspec": {
      "name": "python3",
      "display_name": "Python 3"
    },
    "language_info": {
      "name": "python"
    }
  },
  "cells": [
    {
      "cell_type": "markdown",
      "metadata": {
        "id": "view-in-github",
        "colab_type": "text"
      },
      "source": [
        "<a href=\"https://colab.research.google.com/github/doukansurel/Kod/blob/main/hurriyetDailyLink.ipynb\" target=\"_parent\"><img src=\"https://colab.research.google.com/assets/colab-badge.svg\" alt=\"Open In Colab\"/></a>"
      ]
    },
    {
      "cell_type": "code",
      "execution_count": 1,
      "metadata": {
        "id": "vTi8_gmKBOSM"
      },
      "outputs": [],
      "source": [
        "import os\n",
        "import bs4\n",
        "import requests\n",
        "from bs4 import BeautifulSoup\n",
        "import pandas as pd\n",
        "import numpy as np\n",
        "import os\n",
        "import time\n",
        "import urllib.request\n",
        "import re\n",
        "import urllib3\n",
        "from pandas import DataFrame\n",
        "import csv\n",
        "import datetime\n",
        "from datetime import datetime, timedelta ,date"
      ]
    },
    {
      "cell_type": "code",
      "source": [
        "technology_page_link = []\n",
        "science_page_link = []"
      ],
      "metadata": {
        "id": "lxyriB9xBkpz"
      },
      "execution_count": 14,
      "outputs": []
    },
    {
      "cell_type": "code",
      "source": [
        "def date_creator():\n",
        "  for i in range(1,51):\n",
        "    lnk = \"https://www.hurriyetdailynews.com/search/science?p={}\".format(str(i))\n",
        "    science_page_link.append(lnk)\n",
        "  for i in range(1,51):\n",
        "    lnk = \"https://www.hurriyetdailynews.com/search/technology?p={}\".format(str(i))\n",
        "    technology_page_link.append(lnk)"
      ],
      "metadata": {
        "id": "g_EMwnEmBlqb"
      },
      "execution_count": 17,
      "outputs": []
    },
    {
      "cell_type": "code",
      "source": [
        "date_creator()"
      ],
      "metadata": {
        "id": "wSHVLNHpCqvC"
      },
      "execution_count": 18,
      "outputs": []
    },
    {
      "cell_type": "code",
      "source": [
        "print(technology_page_link)\n",
        "print(science_page_link)"
      ],
      "metadata": {
        "colab": {
          "base_uri": "https://localhost:8080/"
        },
        "id": "N209QSEkCsbW",
        "outputId": "5e44b09f-829d-49eb-db67-98e6c4be2020"
      },
      "execution_count": 19,
      "outputs": [
        {
          "output_type": "stream",
          "name": "stdout",
          "text": [
            "['https://www.hurriyetdailynews.com/search/technology?p=1', 'https://www.hurriyetdailynews.com/search/technology?p=2', 'https://www.hurriyetdailynews.com/search/technology?p=3', 'https://www.hurriyetdailynews.com/search/technology?p=4', 'https://www.hurriyetdailynews.com/search/technology?p=5', 'https://www.hurriyetdailynews.com/search/technology?p=6', 'https://www.hurriyetdailynews.com/search/technology?p=7', 'https://www.hurriyetdailynews.com/search/technology?p=8', 'https://www.hurriyetdailynews.com/search/technology?p=9', 'https://www.hurriyetdailynews.com/search/technology?p=10', 'https://www.hurriyetdailynews.com/search/technology?p=11', 'https://www.hurriyetdailynews.com/search/technology?p=12', 'https://www.hurriyetdailynews.com/search/technology?p=13', 'https://www.hurriyetdailynews.com/search/technology?p=14', 'https://www.hurriyetdailynews.com/search/technology?p=15', 'https://www.hurriyetdailynews.com/search/technology?p=16', 'https://www.hurriyetdailynews.com/search/technology?p=17', 'https://www.hurriyetdailynews.com/search/technology?p=18', 'https://www.hurriyetdailynews.com/search/technology?p=19', 'https://www.hurriyetdailynews.com/search/technology?p=20', 'https://www.hurriyetdailynews.com/search/technology?p=21', 'https://www.hurriyetdailynews.com/search/technology?p=22', 'https://www.hurriyetdailynews.com/search/technology?p=23', 'https://www.hurriyetdailynews.com/search/technology?p=24', 'https://www.hurriyetdailynews.com/search/technology?p=25', 'https://www.hurriyetdailynews.com/search/technology?p=26', 'https://www.hurriyetdailynews.com/search/technology?p=27', 'https://www.hurriyetdailynews.com/search/technology?p=28', 'https://www.hurriyetdailynews.com/search/technology?p=29', 'https://www.hurriyetdailynews.com/search/technology?p=30', 'https://www.hurriyetdailynews.com/search/technology?p=31', 'https://www.hurriyetdailynews.com/search/technology?p=32', 'https://www.hurriyetdailynews.com/search/technology?p=33', 'https://www.hurriyetdailynews.com/search/technology?p=34', 'https://www.hurriyetdailynews.com/search/technology?p=35', 'https://www.hurriyetdailynews.com/search/technology?p=36', 'https://www.hurriyetdailynews.com/search/technology?p=37', 'https://www.hurriyetdailynews.com/search/technology?p=38', 'https://www.hurriyetdailynews.com/search/technology?p=39', 'https://www.hurriyetdailynews.com/search/technology?p=40', 'https://www.hurriyetdailynews.com/search/technology?p=41', 'https://www.hurriyetdailynews.com/search/technology?p=42', 'https://www.hurriyetdailynews.com/search/technology?p=43', 'https://www.hurriyetdailynews.com/search/technology?p=44', 'https://www.hurriyetdailynews.com/search/technology?p=45', 'https://www.hurriyetdailynews.com/search/technology?p=46', 'https://www.hurriyetdailynews.com/search/technology?p=47', 'https://www.hurriyetdailynews.com/search/technology?p=48', 'https://www.hurriyetdailynews.com/search/technology?p=49', 'https://www.hurriyetdailynews.com/search/technology?p=50']\n",
            "['https://www.hurriyetdailynews.com/search/science?p=1', 'https://www.hurriyetdailynews.com/search/science?p=2', 'https://www.hurriyetdailynews.com/search/science?p=3', 'https://www.hurriyetdailynews.com/search/science?p=4', 'https://www.hurriyetdailynews.com/search/science?p=5', 'https://www.hurriyetdailynews.com/search/science?p=6', 'https://www.hurriyetdailynews.com/search/science?p=7', 'https://www.hurriyetdailynews.com/search/science?p=8', 'https://www.hurriyetdailynews.com/search/science?p=9', 'https://www.hurriyetdailynews.com/search/science?p=10', 'https://www.hurriyetdailynews.com/search/science?p=11', 'https://www.hurriyetdailynews.com/search/science?p=12', 'https://www.hurriyetdailynews.com/search/science?p=13', 'https://www.hurriyetdailynews.com/search/science?p=14', 'https://www.hurriyetdailynews.com/search/science?p=15', 'https://www.hurriyetdailynews.com/search/science?p=16', 'https://www.hurriyetdailynews.com/search/science?p=17', 'https://www.hurriyetdailynews.com/search/science?p=18', 'https://www.hurriyetdailynews.com/search/science?p=19', 'https://www.hurriyetdailynews.com/search/science?p=20', 'https://www.hurriyetdailynews.com/search/science?p=21', 'https://www.hurriyetdailynews.com/search/science?p=22', 'https://www.hurriyetdailynews.com/search/science?p=23', 'https://www.hurriyetdailynews.com/search/science?p=24', 'https://www.hurriyetdailynews.com/search/science?p=25', 'https://www.hurriyetdailynews.com/search/science?p=26', 'https://www.hurriyetdailynews.com/search/science?p=27', 'https://www.hurriyetdailynews.com/search/science?p=28', 'https://www.hurriyetdailynews.com/search/science?p=29', 'https://www.hurriyetdailynews.com/search/science?p=30', 'https://www.hurriyetdailynews.com/search/science?p=31', 'https://www.hurriyetdailynews.com/search/science?p=32', 'https://www.hurriyetdailynews.com/search/science?p=33', 'https://www.hurriyetdailynews.com/search/science?p=34', 'https://www.hurriyetdailynews.com/search/science?p=35', 'https://www.hurriyetdailynews.com/search/science?p=36', 'https://www.hurriyetdailynews.com/search/science?p=37', 'https://www.hurriyetdailynews.com/search/science?p=38', 'https://www.hurriyetdailynews.com/search/science?p=39', 'https://www.hurriyetdailynews.com/search/science?p=40', 'https://www.hurriyetdailynews.com/search/science?p=41', 'https://www.hurriyetdailynews.com/search/science?p=42', 'https://www.hurriyetdailynews.com/search/science?p=43', 'https://www.hurriyetdailynews.com/search/science?p=44', 'https://www.hurriyetdailynews.com/search/science?p=45', 'https://www.hurriyetdailynews.com/search/science?p=46', 'https://www.hurriyetdailynews.com/search/science?p=47', 'https://www.hurriyetdailynews.com/search/science?p=48', 'https://www.hurriyetdailynews.com/search/science?p=49', 'https://www.hurriyetdailynews.com/search/science?p=50']\n"
          ]
        }
      ]
    },
    {
      "cell_type": "code",
      "source": [
        "def technology_get_link_creator(url):\n",
        "  html = requests.get(url).content                                                          \n",
        "  soup = BeautifulSoup(html,\"html.parser\")\n",
        "  link_list = soup.find_all(\"div\",{\"class\" : \"col-md-4 col-sm-4\"})\n",
        "  for i in link_list:\n",
        "    href = i.find(\"a\").get(\"href\")\n",
        "    if href.startswith(\"https://www.hurriyetdailynews.com\"):\n",
        "      pass\n",
        "    else:\n",
        "      href = \"https://www.hurriyetdailynews.com\"+href\n",
        "      technology_links\n",
        "      with open(\"daily_hürriyet_technology_Links.txt\",\"a\",encoding=\"utf-8\") as file :\n",
        "        file.write(href+\"\\n\")\n",
        "\n"
      ],
      "metadata": {
        "id": "o_C2-ocEDKgk"
      },
      "execution_count": 32,
      "outputs": []
    },
    {
      "cell_type": "code",
      "source": [
        "def science_get_link_creator(url):\n",
        "  html = requests.get(url).content                                                          \n",
        "  soup = BeautifulSoup(html,\"html.parser\")\n",
        "  link_list = soup.find_all(\"div\",{\"class\" : \"col-md-4 col-sm-4\"})\n",
        "  for i in link_list:\n",
        "    href = i.find(\"a\").get(\"href\")\n",
        "    if href.startswith(\"https://www.hurriyetdailynews.com\"):\n",
        "      pass\n",
        "    else:\n",
        "      href = \"https://www.hurriyetdailynews.com\"+href\n",
        "      technology_links\n",
        "      with open(\"daily_hürriyet_science_Links.txt\",\"a\",encoding=\"utf-8\") as file :\n",
        "        file.write(href+\"\\n\")"
      ],
      "metadata": {
        "id": "p9Q1mqDuGQXn"
      },
      "execution_count": 33,
      "outputs": []
    },
    {
      "cell_type": "code",
      "source": [
        "import concurrent\n",
        "t1=time.time()\n",
        "with concurrent.futures.ProcessPoolExecutor() as execut:\n",
        "  b_res=[execut.submit(science_get_link_creator,i.strip()) for i in science_page_link]\n",
        "print(time.time()-t1)\n",
        "\n",
        "t2=time.time()\n",
        "with concurrent.futures.ProcessPoolExecutor() as execut:\n",
        "  b_res=[execut.submit(technology_get_link_creator,i.strip()) for i in technology_page_link]\n",
        "print(time.time()-t2)"
      ],
      "metadata": {
        "colab": {
          "base_uri": "https://localhost:8080/"
        },
        "id": "0O94E6vYGeeY",
        "outputId": "1570e607-7ce3-41bf-af3c-326c673ecbb8"
      },
      "execution_count": 34,
      "outputs": [
        {
          "output_type": "stream",
          "name": "stdout",
          "text": [
            "45.261553049087524\n",
            "43.8582820892334\n"
          ]
        }
      ]
    }
  ]
}