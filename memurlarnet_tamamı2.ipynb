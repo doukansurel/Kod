{
  "nbformat": 4,
  "nbformat_minor": 0,
  "metadata": {
    "colab": {
      "name": "memurlarnet_tamamı2.ipynb",
      "provenance": [],
      "collapsed_sections": [],
      "authorship_tag": "ABX9TyNPbz6NC2AMWzl/cx86Tiqy",
      "include_colab_link": true
    },
    "kernelspec": {
      "name": "python3",
      "display_name": "Python 3"
    },
    "language_info": {
      "name": "python"
    }
  },
  "cells": [
    {
      "cell_type": "markdown",
      "metadata": {
        "id": "view-in-github",
        "colab_type": "text"
      },
      "source": [
        "<a href=\"https://colab.research.google.com/github/doukansurel/Kod/blob/main/memurlarnet_tamam%C4%B12.ipynb\" target=\"_parent\"><img src=\"https://colab.research.google.com/assets/colab-badge.svg\" alt=\"Open In Colab\"/></a>"
      ]
    },
    {
      "cell_type": "code",
      "metadata": {
        "id": "tPmLoDjjn93n"
      },
      "source": [
        "import os\n",
        "import bs4\n",
        "import requests\n",
        "from bs4 import BeautifulSoup\n",
        "import pandas as pd\n",
        "import numpy as np\n",
        "import os\n",
        "import time\n",
        "import urllib.request\n",
        "import re\n",
        "import urllib3\n",
        "from pandas import DataFrame\n",
        "import csv\n",
        "import datetime\n",
        "from datetime import datetime, timedelta ,date"
      ],
      "execution_count": 1,
      "outputs": []
    },
    {
      "cell_type": "code",
      "metadata": {
        "id": "Bx3-JHKWoD0N"
      },
      "source": [
        "manset1_pages = []\n",
        "manset2_pages = []\n",
        "sonhaber_pages = []"
      ],
      "execution_count": 2,
      "outputs": []
    },
    {
      "cell_type": "code",
      "metadata": {
        "id": "hC6OsPsKoFVU"
      },
      "source": [
        "def date_creator():\n",
        "  lnk1 = \"https://www.memurlar.net/mansetler/default.aspx?typeid=3&page=\"         # 3098 sayfa , typeid 1,2,3 aynı , 2012 yılına kadar gidiyor...\n",
        "  lnk2 = \"https://www.memurlar.net/mansetler/default.aspx?typeid=4&page=\"         # 1075 sayfa , 2003 yılına kadar gidiyor..\n",
        "  lnk3 = \"https://www.memurlar.net/sonhaberler/?date={}\"\n",
        "  for a in range(1,3099,1):\n",
        "    a = str(a)\n",
        "    link1 = lnk1 + a \n",
        "    manset1_pages.append(link1)\n",
        "  for b in range (1,1076,1):\n",
        "    b = str(b)\n",
        "    link2 = lnk2 + b\n",
        "    manset2_pages.append(link2)\n",
        "  \n",
        "  t1 = datetime(2003,4,15)\n",
        "  t2 = datetime(2021,8,1)\n",
        "  t= timedelta(days = 1)\n",
        "  dates=np.arange(t1, t2, t).astype(datetime)\n",
        "\n",
        "  for j in dates:\n",
        "    link3 = (lnk3.format(j.strftime('%Y/%m/%d')))\n",
        "    sonhaber_pages.append(link3)"
      ],
      "execution_count": 3,
      "outputs": []
    },
    {
      "cell_type": "code",
      "metadata": {
        "id": "QpKEuc-Cow6H"
      },
      "source": [
        "date_creator()\n",
        "# for i in sonhaber_pages[:20]:\n",
        "#   print(i)\n",
        "# print(\"------------------------\")\n",
        "# for i in manset2_pages[:20]:\n",
        "#   print(i)\n",
        "# print(\"********************\")\n",
        "# for i in manset1_pages[:20]:\n",
        "#   print(i)"
      ],
      "execution_count": 4,
      "outputs": []
    },
    {
      "cell_type": "code",
      "metadata": {
        "id": "YUu7upDeoN6R"
      },
      "source": [
        "def get_link_manset1(link):\n",
        "  html = requests.get(link).content\n",
        "  soup = BeautifulSoup(html,\"html.parser\")\n",
        "  list = soup.find(\"table\",{\"class\":\"LastNewsPage\"}).find_all(\"tr\")\n",
        "  for i in list:\n",
        "    href = i.find(\"a\").get(\"href\")        #3098 Olan\n",
        "    href =\"https://www.memurlar.net\"+href\n",
        "    with open (\"memurlarnet_manset1_links.txt\",\"a\",encoding=\"utf-8\")as file:\n",
        "      file.write(href+\"\\n\")"
      ],
      "execution_count": 5,
      "outputs": []
    },
    {
      "cell_type": "code",
      "metadata": {
        "id": "8jD4Vii3oSs5"
      },
      "source": [
        "def get_link_manset2(link):\n",
        "  html = requests.get(link).content\n",
        "  soup = BeautifulSoup(html,\"html.parser\")\n",
        "  list = soup.find(\"div\",{\"class\":\"Content\"}).find_all(\"a\")\n",
        "  for i in list:\n",
        "    href = i.get(\"href\")\n",
        "    if href.startswith(\"/mansetler\"):\n",
        "      break                                                                                                   # 1075 Olan\n",
        "    else :\n",
        "      href =\"https://www.memurlar.net\"+href\n",
        "      with open(\"memurlarnet_manset2_links.txt\",\"a\",encoding=\"utf-8\")as file :\n",
        "        file.write(href+\"\\n\")"
      ],
      "execution_count": 6,
      "outputs": []
    },
    {
      "cell_type": "code",
      "metadata": {
        "id": "WC0HE8KfsVBU"
      },
      "source": [
        "def get_link_sonhaber(link):\n",
        "  html = requests.get(link).content\n",
        "  soup = BeautifulSoup(html,\"html.parser\")\n",
        "  list = soup.find_all(\"div\",{\"class\":\"category-news\"})\n",
        "  for i in list:\n",
        "    if i == \"\":\n",
        "      break\n",
        "    else:\n",
        "      href = i.find(\"a\").get(\"href\")\n",
        "      href =\"https://www.memurlar.net\"+href\n",
        "      with open(\"memurlarnet_sonhaber_links.txt\",\"a\",encoding=\"utf-8\")as file :\n",
        "            file.write(href+\"\\n\")"
      ],
      "execution_count": 7,
      "outputs": []
    },
    {
      "cell_type": "code",
      "metadata": {
        "id": "i-GPgo7q_CCb"
      },
      "source": [
        "# for i in manset1_pages[:5]:\n",
        "#   get_link_manset1(i)\n",
        "# for i in manset2_pages[:5]:\n",
        "#   get_link_manset2(i)\n",
        "# for i in sonhaber_pages[:5]:\n",
        "#   get_link_sonhaber(i)"
      ],
      "execution_count": 8,
      "outputs": []
    },
    {
      "cell_type": "code",
      "metadata": {
        "id": "cXjZ61U_oXk6"
      },
      "source": [
        "import concurrent\n",
        "t1=time.time()\n",
        "with concurrent.futures.ProcessPoolExecutor() as execut:\n",
        "  b_res=[execut.submit(get_link_manset1,i.strip()) for i in manset1_pages ]\n",
        "print(time.time()-t1)"
      ],
      "execution_count": null,
      "outputs": []
    },
    {
      "cell_type": "code",
      "metadata": {
        "id": "A6fg9B3poay0"
      },
      "source": [
        "t1=time.time()\n",
        "with concurrent.futures.ProcessPoolExecutor() as execut:\n",
        "  b_res=[execut.submit(get_link_manset2,i.strip()) for i in manset2_pages ]\n",
        "print(time.time()-t1)"
      ],
      "execution_count": null,
      "outputs": []
    },
    {
      "cell_type": "code",
      "metadata": {
        "id": "eeKgmZmUodTn"
      },
      "source": [
        "t1=time.time()\n",
        "with concurrent.futures.ProcessPoolExecutor() as execut:\n",
        "  b_res=[execut.submit(get_link_sonhaber,i.strip()) for i in sonhaber_pages ]\n",
        "print(time.time()-t1)"
      ],
      "execution_count": null,
      "outputs": []
    },
    {
      "cell_type": "code",
      "metadata": {
        "id": "fqp4kCIwqHAM"
      },
      "source": [
        "manset1_links = []\n",
        "manset2_links = []\n",
        "sonhaber_links = []"
      ],
      "execution_count": 10,
      "outputs": []
    },
    {
      "cell_type": "code",
      "metadata": {
        "id": "JG3S041BsPrI"
      },
      "source": [
        "with open(\"memurlarnet_manset1_links.txt\",'r',newline='') as f:\n",
        "  for i in f.readlines():    \n",
        "  # reader=csv.reader(f)\n",
        "    manset1_links.append(i)"
      ],
      "execution_count": 11,
      "outputs": []
    },
    {
      "cell_type": "code",
      "metadata": {
        "id": "ydX_UzN0t8nK"
      },
      "source": [
        "with open(\"memurlarnet_manset2_links.txt\",'r',newline='') as f:\n",
        "  for i in f.readlines():    \n",
        "  # reader=csv.reader(f)\n",
        "    manset2_links.append(i)"
      ],
      "execution_count": 12,
      "outputs": []
    },
    {
      "cell_type": "code",
      "metadata": {
        "id": "tCMFQhbGuKih"
      },
      "source": [
        "with open(\"memurlarnet_sonhaber_links.txt\",'r',newline='') as f:\n",
        "  for i in f.readlines():    \n",
        "  # reader=csv.reader(f)\n",
        "    sonhaber_links.append(i)"
      ],
      "execution_count": 13,
      "outputs": []
    },
    {
      "cell_type": "code",
      "metadata": {
        "colab": {
          "base_uri": "https://localhost:8080/"
        },
        "id": "TB7ABmNZ_E6Z",
        "outputId": "f4a55ffb-cfd8-457a-830a-992c86dbc08c"
      },
      "source": [
        "# for i in manset1_links[:5]:\n",
        "#   print(i)\n",
        "# print(\"----------------------\")\n",
        "# for i in manset2_links[:5]:\n",
        "#   print(i)\n",
        "# print(\"----------------------\")\n",
        "# for i in sonhaber_links[:5]:\n",
        "#   print(i)"
      ],
      "execution_count": 14,
      "outputs": [
        {
          "output_type": "stream",
          "text": [
            "https://www.memurlar.net/haber/983597/oldurulen-turk-vatandasi-icin-yunanistan-a-nota-verildi.html\n",
            "\n",
            "https://www.memurlar.net/haber/983591/emniyet-sahte-orman-yanginlari-paylasimlarina-yasal-islem-baslatacak.html\n",
            "\n",
            "https://www.memurlar.net/haber/983578/81-ile-talimat-bakanlik-gramaj-hilesine-karsi-harekete-gecti.html\n",
            "\n",
            "https://www.memurlar.net/haber/983588/bahceli-anayasa-mahkemesi-hesabini-veremez.html\n",
            "\n",
            "https://www.memurlar.net/haber/983522/bakan-pakdemirli-112-yangindan-107-sini-kontrol-altina-aldik.html\n",
            "\n",
            "----------------------\n",
            "https://www.memurlar.net/haber/983528/kpss-a-grubu-genel-kultur-genel-yetenek-sorularini-degerlendiriyoruz.html\n",
            "\n",
            "https://www.memurlar.net/haber/982922/universite-odeneginde-vakifta-gecen-sureler-dikkate-alinir-mi.html\n",
            "\n",
            "https://www.memurlar.net/haber/982763/sayistay-dan-vekil-dekanlar-hakkinda-onemli-karar.html\n",
            "\n",
            "https://www.memurlar.net/haber/983421/kdk-den-eczacilara-nobet-ucreti-tavsiyesi.html\n",
            "\n",
            "https://www.memurlar.net/haber/983410/ogretmen-il-disi-nakillerinde-acilan-kontenjan-sayisi-gecmis-yillara-gore-az-mi.html\n",
            "\n",
            "----------------------\n",
            "https://www.memurlar.net/haber/11759/2002-yili-adli-yargi-hakim-adayligi-sinav-soru-ve-cevaplari.html\n",
            "\n",
            "https://www.memurlar.net/haber/10922/istifa-eden-memurlarin-yeniden-memuriyete-donmesi.html\n",
            "\n",
            "https://www.memurlar.net/haber/4/devlet-memurlarinin-yurt-disina-gonderilmesi.html\n",
            "\n",
            "https://www.memurlar.net/haber/7/ust-kurullarla-ilgili-bilgiler.html\n",
            "\n",
            "https://www.memurlar.net/haber/8/ust-dereceli-kadrolara-atama-sekli.html\n",
            "\n"
          ],
          "name": "stdout"
        }
      ]
    },
    {
      "cell_type": "code",
      "metadata": {
        "id": "aoib_WA0uWew"
      },
      "source": [
        "def manset1_creator(url):\n",
        "  html = requests.get(url).content\n",
        "  soup = BeautifulSoup(html,\"html.parser\")\n",
        "  title = soup.find(\"div\",{\"class\":\"DetailPage\"}).find(\"h1\").getText()  #Çalışıyor \n",
        "  date = soup.find(\"span\",{\"class\":\"Date\"}).getText()   #Çalışıyor.\n",
        "  date = date [:-6]\n",
        "  categori = soup.find(\"div\",{\"class\":\"Category\"}).find_all(\"a\")   #Çalışıyor\n",
        "  for i in categori :\n",
        "    if i.getText().startswith(\"Anasayfa\") and i.startswith(\"...\"):\n",
        "      break\n",
        "    else :                                                                                                        \n",
        "      cat = i.getText()                                                                                     \n",
        "\n",
        "  content = soup.find(\"div\",{\"style\":\"min-height:400px\"}).find_all(\"p\") \n",
        "  h=\"\"\n",
        "  z=\"\"\n",
        "  for w in content:\n",
        "    w=w.getText().replace(\" \",\" \")\n",
        "    z=\" \".join(w.split())\n",
        "    h+=z\n",
        "    h=h.strip(\"googletag.cmd.push(function() { googletag.display('div-gpt-ad-1560331211068-1'); })\")\n",
        "  sentence = \"{} ; {} ; {} ; {} ; {}\".format(url,cat,date,title,h)\n",
        "  with open (\"memurlarnet_manset1_cont.txt\",\"a\",encoding=\"utf-8\") as file:\n",
        "    file.write(sentence+\"\\n\")"
      ],
      "execution_count": 41,
      "outputs": []
    },
    {
      "cell_type": "code",
      "metadata": {
        "id": "vH4t8PL7qZqo"
      },
      "source": [
        "def manset2_creator(url):\n",
        "  html = requests.get(url).content\n",
        "  soup = BeautifulSoup(html,\"html.parser\")\n",
        "  title = soup.find(\"div\",{\"class\":\"DetailPage\"}).find(\"h1\").getText()  #Çalışıyor \n",
        "  date = soup.find(\"span\",{\"class\":\"Date\"}).getText()   #Çalışıyor.\n",
        "  date = date [:-6]\n",
        "  categori = soup.find(\"div\",{\"class\":\"Category\"}).find_all(\"a\")   #Çalışıyor\n",
        "  for i in categori :\n",
        "    if i.getText().startswith(\"Anasayfa\") and i.startswith(\"...\"):\n",
        "      break\n",
        "    else :                                                                                                        \n",
        "      cat = i.getText()                                                                                     \n",
        "\n",
        "  content = soup.find(\"div\",{\"style\":\"min-height:400px\"}).find_all(\"p\") \n",
        "  h=\"\"\n",
        "  z=\"\"\n",
        "  for w in content:\n",
        "    w=w.getText().replace(\" \",\" \")\n",
        "    z=\" \".join(w.split())\n",
        "    h+=z\n",
        "    h=h.strip(\"googletag.cmd.push(function() { googletag.display('div-gpt-ad-1560331211068-1'); })\")\n",
        "  sentence = \"{} ; {} ; {} ; {} ; {}\".format(url,cat,date,title,h)\n",
        "  with open (\"memurlarnet_manset2_cont.txt\",\"a\",encoding=\"utf-8\") as file:\n",
        "    file.write(sentence+\"\\n\")"
      ],
      "execution_count": 51,
      "outputs": []
    },
    {
      "cell_type": "code",
      "metadata": {
        "id": "WUVitx9Kqb46"
      },
      "source": [
        "def sonhaber_creator(url):\n",
        "  html = requests.get(url).content\n",
        "  soup = BeautifulSoup(html,\"html.parser\")\n",
        "  title = soup.find(\"div\",{\"class\":\"DetailPage\"}).find(\"h1\").getText()  #Çalışıyor \n",
        "  date = soup.find(\"span\",{\"class\":\"Date\"}).getText()   #Çalışıyor.\n",
        "  date = date [:-6]\n",
        "  categori = soup.find(\"div\",{\"class\":\"Category\"}).find_all(\"a\")   #Çalışıyor\n",
        "  for i in categori :\n",
        "    if i.getText().startswith(\"Anasayfa\") and i.startswith(\"...\"):\n",
        "      break\n",
        "    else :                                                                                                        \n",
        "      cat = i.getText()                                                                                     \n",
        "  content = soup.find(\"div\",{\"style\":\"min-height:400px\"}).find_all(\"p\") \n",
        "  h=\"\"\n",
        "  z=\"\"\n",
        "  for w in content:\n",
        "    w=w.getText().replace(\" \",\" \")\n",
        "    z=\" \".join(w.split())\n",
        "    h+=z\n",
        "    h=h.strip(\"googletag.cmd.push(function() { googletag.display('div-gpt-ad-1560331211068-1'); })\")\n",
        "  sentence = \"{} ; {} ; {} ; {} ; {}\".format(url,cat,date,title,h)\n",
        "  with open (\"memurlarnet_sonhaber_cont.txt\",\"a\",encoding=\"utf-8\") as file:\n",
        "    file.write(sentence+\"\\n\")"
      ],
      "execution_count": 49,
      "outputs": []
    },
    {
      "cell_type": "code",
      "metadata": {
        "id": "ajvVczcX-7gi"
      },
      "source": [
        "# for i in manset1_links[:5]:\n",
        "#   manset1_creator(i)\n",
        "# for i in manset2_links[:5]:\n",
        "#   manset2_creator(i)\n",
        "# for i in sonhaber_links[:5]:\n",
        "#   sonhaber_creator(i)"
      ],
      "execution_count": null,
      "outputs": []
    },
    {
      "cell_type": "code",
      "metadata": {
        "id": "g6i8VO_e-W0q",
        "colab": {
          "base_uri": "https://localhost:8080/"
        },
        "outputId": "492ef43b-2ada-4cbd-d39a-eb3c096ec4f7"
      },
      "source": [
        "import concurrent\n",
        "t1=time.time()\n",
        "with concurrent.futures.ProcessPoolExecutor() as execut:\n",
        "  b_res=[execut.submit(manset1_creator,i.strip()) for i in manset1_links]\n",
        "print(time.time()-t1)"
      ],
      "execution_count": 54,
      "outputs": [
        {
          "output_type": "stream",
          "text": [
            "197.33756494522095\n"
          ],
          "name": "stdout"
        }
      ]
    },
    {
      "cell_type": "code",
      "metadata": {
        "id": "jiWskJlb-0iX",
        "colab": {
          "base_uri": "https://localhost:8080/"
        },
        "outputId": "a80c2026-05e6-4aa7-bd57-79047cf178d3"
      },
      "source": [
        "import concurrent\n",
        "t1=time.time()\n",
        "with concurrent.futures.ProcessPoolExecutor() as execut:\n",
        "  b_res=[execut.submit(manset2_creator,i.strip()) for i in manset2_links]\n",
        "print(time.time()-t1)"
      ],
      "execution_count": 55,
      "outputs": [
        {
          "output_type": "stream",
          "text": [
            "64.36106848716736\n"
          ],
          "name": "stdout"
        }
      ]
    },
    {
      "cell_type": "code",
      "metadata": {
        "id": "5Vrzst6K-26y",
        "colab": {
          "base_uri": "https://localhost:8080/"
        },
        "outputId": "b095643e-816e-40ca-efc0-fbea03dde2d3"
      },
      "source": [
        "import concurrent\n",
        "t1=time.time()\n",
        "with concurrent.futures.ProcessPoolExecutor() as execut:\n",
        "  b_res=[execut.submit(sonhaber_creator,i.strip()) for i in sonhaber_links]\n",
        "print(time.time()-t1)"
      ],
      "execution_count": 56,
      "outputs": [
        {
          "output_type": "stream",
          "text": [
            "181.4608564376831\n"
          ],
          "name": "stdout"
        }
      ]
    }
  ]
}