{
  "nbformat": 4,
  "nbformat_minor": 0,
  "metadata": {
    "colab": {
      "name": "news-gb-tamamı.ipynb adlı not defterinin kopyası",
      "provenance": [],
      "collapsed_sections": [],
      "authorship_tag": "ABX9TyMKaV98Isp1gZ8V666NLMqt",
      "include_colab_link": true
    },
    "kernelspec": {
      "name": "python3",
      "display_name": "Python 3"
    },
    "language_info": {
      "name": "python"
    }
  },
  "cells": [
    {
      "cell_type": "markdown",
      "metadata": {
        "id": "view-in-github",
        "colab_type": "text"
      },
      "source": [
        "<a href=\"https://colab.research.google.com/github/doukansurel/Kod/blob/main/news_gb_tamam%C4%B1_ipynb_adl%C4%B1_not_defterinin_kopyas%C4%B1.ipynb\" target=\"_parent\"><img src=\"https://colab.research.google.com/assets/colab-badge.svg\" alt=\"Open In Colab\"/></a>"
      ]
    },
    {
      "cell_type": "code",
      "metadata": {
        "id": "Bxf3VAdrDhcK"
      },
      "source": [
        "import os\n",
        "import bs4\n",
        "import requests\n",
        "from bs4 import BeautifulSoup\n",
        "import pandas as pd\n",
        "import numpy as np\n",
        "import os\n",
        "import time\n",
        "import urllib.request\n",
        "import re\n",
        "import urllib3\n",
        "from pandas import DataFrame\n",
        "import csv\n",
        "import datetime\n",
        "from datetime import datetime, timedelta ,date"
      ],
      "execution_count": null,
      "outputs": []
    },
    {
      "cell_type": "code",
      "metadata": {
        "id": "BuH45DYED2Z0"
      },
      "source": [
        "world_links = []     \n",
        "ekonomi_links = []\n",
        "abd_links = []\n",
        "yorum_links = []\n",
        "ritim_links = []\n",
        "spor_links = []\n",
        "hava_links = []"
      ],
      "execution_count": null,
      "outputs": []
    },
    {
      "cell_type": "code",
      "metadata": {
        "id": "ue9hCJ4fE12p"
      },
      "source": [
        "def date_creator():\n",
        "  for i in range(1,501):\n",
        "    lnk = \"https://news.bg/bulgaria?page={}\".format(str(i))                 # ABD TAMAM\n",
        "    abd_links.append(lnk)\n",
        "  #\n",
        "  for i in range(1,501):\n",
        "    lnk = \"https://news.bg/world?page={}\".format(str(i))          # Dünya tamam\n",
        "    world_links.append(lnk)\n",
        "  #\n",
        "  for i in range(1,501):\n",
        "    lnk = \"https://news.bg/economics?page={}\".format(str(i))       # Ekonomi tamam\n",
        "    ekonomi_links.append(lnk)\n",
        "  #\n",
        "  for i in range(1,210):\n",
        "    lnk = \"https://news.bg/comments?page={}\".format(str(i))         #Yorum tamam\n",
        "    yorum_links.append(lnk)\n",
        "  #\n",
        "  for i in range(1,501):\n",
        "    lnk = \"https://news.bg/entertainment?page={}\".format(str(i))      # ritim tamam \n",
        "    ritim_links.append(lnk)\n",
        "  #\n",
        "  for i in range(1,501):\n",
        "    lnk = \"https://news.bg/sport?page={}\".format(str(i))          # Spor tamam\n",
        "    spor_links.append(lnk)\n",
        "  #\n",
        "  for i in range(1,82):\n",
        "    lnk = \"https://news.bg/weather/sofiya/now?page={}\".format(str(i))     #Hava durumu tamam\n",
        "    hava_links.append(lnk)\n"
      ],
      "execution_count": null,
      "outputs": []
    },
    {
      "cell_type": "code",
      "metadata": {
        "id": "8HLav9ilT3ZM"
      },
      "source": [
        "date_creator()"
      ],
      "execution_count": null,
      "outputs": []
    },
    {
      "cell_type": "code",
      "metadata": {
        "id": "En6lXu_1Gs6v"
      },
      "source": [
        "print(abd_links)   #500sayfa\n",
        "print(yorum_links)  #209 sayfa\n",
        "print(ritim_links)    # 500 sayfa \n",
        "print(spor_links)     #500 sayfa\n",
        "print(hava_links)       #81 sayfa\n",
        "print(ekonomi_links)      #500 sayfa\n",
        "print(world_links)        #500 sayfa"
      ],
      "execution_count": null,
      "outputs": []
    },
    {
      "cell_type": "code",
      "metadata": {
        "id": "9S0a2Js1Cdex"
      },
      "source": [
        "def get_link_creator(url):\n",
        "  html = requests.get(url).content                                                          \n",
        "  soup = BeautifulSoup(html,\"html.parser\")\n",
        "  list = soup.find(\"div\",{\"class\":\"inner-page\"}).find_all(\"div\",{\"class\":\"topic\"})\n",
        "  for i in list :\n",
        "    href = i.find(\"h2\").find(\"a\").get(\"href\")\n",
        "    with open(\"news-gb-Links.txt\",\"a\",encoding=\"utf-8\") as file :\n",
        "      file.write(href+\"\\n\")"
      ],
      "execution_count": null,
      "outputs": []
    },
    {
      "cell_type": "code",
      "metadata": {
        "id": "OBEUm9ymD_zL"
      },
      "source": [
        "import concurrent\n",
        "t1=time.time()\n",
        "with concurrent.futures.ProcessPoolExecutor() as execut:\n",
        "  b_res=[execut.submit(get_link_creator,i.strip()) for i in abd_links]\n",
        "print(time.time()-t1)\n",
        "\n",
        "t2=time.time()\n",
        "with concurrent.futures.ProcessPoolExecutor() as execut:\n",
        "  b_res=[execut.submit(get_link_creator,i.strip()) for i in yorum_links]\n",
        "print(time.time()-t2)\n",
        "\n",
        "t3=time.time()\n",
        "with concurrent.futures.ProcessPoolExecutor() as execut:\n",
        "  b_res=[execut.submit(get_link_creator,i.strip()) for i in ritim_links]\n",
        "print(time.time()-t3)\n",
        "\n",
        "t4=time.time()\n",
        "with concurrent.futures.ProcessPoolExecutor() as execut:\n",
        "  b_res=[execut.submit(get_link_creator,i.strip()) for i in spor_links]\n",
        "print(time.time()-t4)\n",
        "\n",
        "t5=time.time()\n",
        "with concurrent.futures.ProcessPoolExecutor() as execut:\n",
        "  b_res=[execut.submit(get_link_creator,i.strip()) for i in hava_links]\n",
        "print(time.time()-t5)\n",
        "\n",
        "t6=time.time()\n",
        "with concurrent.futures.ProcessPoolExecutor() as execut:\n",
        "  b_res=[execut.submit(get_link_creator,i.strip()) for i in ekonomi_links]\n",
        "print(time.time()-t6)\n",
        "\n",
        "t7=time.time()\n",
        "with concurrent.futures.ProcessPoolExecutor() as execut:\n",
        "  b_res=[execut.submit(get_link_creator,i.strip()) for i in world_links]\n",
        "print(time.time()-t7)\n"
      ],
      "execution_count": null,
      "outputs": []
    },
    {
      "cell_type": "code",
      "metadata": {
        "id": "GeQLGNwaEhzz"
      },
      "source": [
        "total_link = []"
      ],
      "execution_count": null,
      "outputs": []
    },
    {
      "cell_type": "code",
      "metadata": {
        "id": "WhPwHTceEajU"
      },
      "source": [
        "with open(\"news-gb-Links.txt\",'r',newline='') as f:\n",
        "  for i in f.readlines():    \n",
        "  # reader=csv.reader(f)\n",
        "    i.strip(\"\\n\")\n",
        "    total_link.append(i)"
      ],
      "execution_count": null,
      "outputs": []
    },
    {
      "cell_type": "code",
      "metadata": {
        "id": "o_78qa5qGW_6"
      },
      "source": [
        "len(total_link) # 55840 arası link olması gerekmekte."
      ],
      "execution_count": null,
      "outputs": []
    },
    {
      "cell_type": "code",
      "metadata": {
        "id": "0-XAOGeyGvzf"
      },
      "source": [
        "def creator(url):\n",
        "  html = requests.get(url).content\n",
        "  soup = BeautifulSoup(html,\"html.parser\")\n",
        "  title = soup.find(\"h1\",{\"itemprop\":\"headline\"}).getText()\n",
        "  date = soup.find(\"p\",{\"class\":\"time\"}).getText().strip() \n",
        "  date = date[:-9]\n",
        "  categori = soup.find(\"div\",{\"class\":\"article-info\"}).find(\"a\",{\"class\":\"section\"}).getText().strip()\n",
        "  if not categori:\n",
        "    categori = \"\"\n",
        "  content = soup.find(\"div\",{\"class\":\"article-text\"}).find_all(\"p\") \n",
        "  content_string = \"\"\n",
        "  for i in content:\n",
        "    i=i.getText().replace(\" \",\" \")\n",
        "    z=\" \".join(i.split())\n",
        "    content_string += z\n",
        "    url = url.strip()\n",
        "  sentence = \"{} ; {} ; {} ; {} ; {}\".format(url,date,categori,title,content_string)+\"\\n\"\n",
        "  with open(\"news-bg-Cont.txt\",\"a\",encoding=\"utf-8\") as file:\n",
        "    file.write(sentence)\n"
      ],
      "execution_count": null,
      "outputs": []
    },
    {
      "cell_type": "code",
      "metadata": {
        "id": "GlpORDkVL2KO"
      },
      "source": [
        "import concurrent\n",
        "t1=time.time()\n",
        "with concurrent.futures.ProcessPoolExecutor() as execut:\n",
        "  b_res=[execut.submit(creator,i.strip()) for i in total_link]\n",
        "print(time.time()-t1)"
      ],
      "execution_count": null,
      "outputs": []
    }
  ]
}