{
  "nbformat": 4,
  "nbformat_minor": 0,
  "metadata": {
    "colab": {
      "name": "pik-tamamı.ipynb adlı not defterinin kopyası",
      "provenance": [],
      "collapsed_sections": [],
      "authorship_tag": "ABX9TyPIbNsnsRrfwUOuibd9XNa/",
      "include_colab_link": true
    },
    "kernelspec": {
      "name": "python3",
      "display_name": "Python 3"
    },
    "language_info": {
      "name": "python"
    }
  },
  "cells": [
    {
      "cell_type": "markdown",
      "metadata": {
        "id": "view-in-github",
        "colab_type": "text"
      },
      "source": [
        "<a href=\"https://colab.research.google.com/github/doukansurel/Kod/blob/main/pik_tamam%C4%B1_ipynb_adl%C4%B1_not_defterinin_kopyas%C4%B1.ipynb\" target=\"_parent\"><img src=\"https://colab.research.google.com/assets/colab-badge.svg\" alt=\"Open In Colab\"/></a>"
      ]
    },
    {
      "cell_type": "code",
      "metadata": {
        "id": "FONKnFigp4Y1"
      },
      "source": [
        "import os\n",
        "import bs4\n",
        "import requests\n",
        "from bs4 import BeautifulSoup\n",
        "import pandas as pd\n",
        "import numpy as np\n",
        "import os\n",
        "import time\n",
        "import urllib.request\n",
        "import re\n",
        "import urllib3\n",
        "from pandas import DataFrame\n",
        "import csv\n",
        "import datetime\n",
        "from datetime import datetime, timedelta ,date"
      ],
      "execution_count": null,
      "outputs": []
    },
    {
      "cell_type": "code",
      "metadata": {
        "id": "ePA57EgBsnO1"
      },
      "source": [
        "bulgaristan_link = []\n",
        "tepe_link = []\n",
        "dunya_link = []\n",
        "spor_link = []\n",
        "tema_link = []\n",
        "retro_link = []\n",
        "magazin_link = []\n",
        "video_link = []\n",
        "secim_link = []\n",
        "yemek_link = []"
      ],
      "execution_count": null,
      "outputs": []
    },
    {
      "cell_type": "code",
      "metadata": {
        "id": "lNT1s0OstwCs"
      },
      "source": [
        "def date_creator():\n",
        "  #Bulgaristan 495 page\n",
        "  for i in range(1,46):\n",
        "    lnk = \"https://pik.bg/%D0%BF%D0%BE%D0%BB%D0%B8%D1%82%D0%B8%D0%BA%D0%B0-cat6.html?page={}\".format(str(i)) #Siyaset\n",
        "    bulgaristan_link.append(lnk)\n",
        "  for i in range(1,46):\n",
        "    lnk = \"https://pik.bg/%D0%B8%D0%BD%D1%86%D0%B8%D0%B4%D0%B5%D0%BD%D1%82%D0%B8-cat4.html?page={}\".format(str(i)) #Olaylar\n",
        "    bulgaristan_link.append(lnk)\n",
        "  for i in range(1,46):\n",
        "    lnk = \"https://pik.bg/%D0%BA%D1%80%D0%B8%D0%BC%D0%B8-cat5.html?page={}\".format(str(i)) #Kırım\n",
        "    bulgaristan_link.append(lnk)\n",
        "  for i in range(1,46):\n",
        "    lnk = \"https://pik.bg/%D0%BA%D1%83%D0%BB%D1%82%D1%83%D1%80%D0%B0-cat15.html?page={}\".format(str(i))   #Kültür\n",
        "    bulgaristan_link.append(lnk)\n",
        "  for i in range(1,46):\n",
        "    lnk = \"https://pik.bg/%D1%82%D0%B5%D0%BC%D0%B8%D0%B4%D0%B0-cat13.html?page={}\".format(str(i))  #Themis\n",
        "    bulgaristan_link.append(lnk)\n",
        "  for i in range(1,46):\n",
        "    lnk = \"https://pik.bg/%D1%80%D0%B5%D0%B3%D0%B8%D0%BE%D0%BD%D0%B8-cat12.html?page={}\".format(str(i)) # Bölgeler\n",
        "    bulgaristan_link.append(lnk)\n",
        "  for i in range(1,46):\n",
        "    lnk = \"https://pik.bg/%D0%BE%D0%B1%D1%80%D0%B0%D0%B7%D0%BE%D0%B2%D0%B0%D0%BD%D0%B8%D0%B5-cat11.html?page={}\".format(str(i))    #Eğitim\n",
        "    bulgaristan_link.append(lnk)\n",
        "  for i in range(1,46):\n",
        "    lnk = \"https://pik.bg/%D0%B8%D0%BA%D0%BE%D0%BD%D0%BE%D0%BC%D0%B8%D0%BA%D0%B0-cat9.html?page={}\".format(str(i))   #Ekonomi\n",
        "    bulgaristan_link.append(lnk)\n",
        "  for i in range(1,46):\n",
        "    lnk = \"https://pik.bg/%D0%B7%D0%B4%D1%80%D0%B0%D0%B2%D0%B5-cat10.html?page={}\".format(str(i))    #Sağlık \n",
        "    bulgaristan_link.append(lnk)\n",
        "  for i in range(1,46):\n",
        "    lnk = \"https://pik.bg/%D0%B8%D0%BD%D1%82%D0%B5%D1%80%D0%B2%D1%8E-cat7.html?page={}\".format(str(i)) # Röportaj\n",
        "    bulgaristan_link.append(lnk)\n",
        "  for i in range(1,46):\n",
        "    lnk = \"https://pik.bg/%D0%BF%D1%80%D0%BE%D0%B3%D0%BD%D0%BE%D0%B7%D0%B0-%D0%B7%D0%B0-%D0%B2%D1%80%D0%B5%D0%BC%D0%B5%D1%82%D0%BE-cat150.html?page={}\".format(str(i))\n",
        "    bulgaristan_link.append(lnk)\n",
        "  #tepe 45 page\n",
        "  for i in range(1,46):\n",
        "    lnk = \"https://pik.bg/%D0%BF%D0%B8%D0%BA-tv-cat151.html?page={}\".format(str(i))\n",
        "    tepe_link.append(lnk)\n",
        "  #dunya 225 page\n",
        "  for i in range(1,46):\n",
        "    lnk = \"https://pik.bg/%D0%B1%D0%BB%D0%B8%D0%B7%D1%8A%D0%BA-%D0%B8%D0%B7%D1%82%D0%BE%D0%BA-cat22.html?page={}\".format(str(i)) #Ortadoğu\n",
        "    dunya_link.append(lnk)\n",
        "  for i in range(1,46):\n",
        "    lnk = \"https://pik.bg/%D0%B0%D0%BC%D0%B5%D1%80%D0%B8%D0%BA%D0%B0-cat21.html?page={}\".format(str(i)) #Amerika\n",
        "    dunya_link.append(lnk)  \n",
        "  for i in range(1,46):\n",
        "    lnk = \"https://pik.bg/%D0%B5%D0%B2%D1%80%D0%BE%D0%BF%D0%B0-cat19.html?page={}\".format(str(i)) #Avrupa\n",
        "    dunya_link.append(lnk)\n",
        "  for i in range(1,46):\n",
        "    lnk = \"https://pik.bg/%D0%B1%D0%B0%D0%BB%D0%BA%D0%B0%D0%BD%D0%B8-cat18.html?page={}\".format(str(i)) # Balkanlar\n",
        "    dunya_link.append(lnk)\n",
        "  for i in range(1,46):\n",
        "    lnk = \"https://pik.bg/%D0%B0%D0%B7%D0%B8%D1%8F-cat23.html?page={}\".format(str(i)) #Asya\n",
        "    dunya_link.append(lnk)\n",
        "  #spor 90 page\n",
        "  for i in range(1,46):\n",
        "    lnk = \"https://pik.bg/%D0%B4%D1%80%D1%83%D0%B3%D0%B8-%D1%81%D0%BF%D0%BE%D1%80%D1%82%D0%BE%D0%B2%D0%B5-cat30.html?page={}\".format(str(i))\n",
        "    spor_link.append(lnk)\n",
        "  for i in range(1,46):\n",
        "    lnk = \"https://pik.bg/%D1%84%D1%83%D1%82%D0%B1%D0%BE%D0%BB-cat27.html?page={}\".format(str(i))\n",
        "    spor_link.append(lnk)\n",
        "  #Tema 45 page\n",
        "  for i in range(1,46):\n",
        "    lnk = \"https://pik.bg/%D1%82%D0%B5%D0%BC%D0%B0-cat104.html?page={}\".format(str(i))\n",
        "    tema_link.append(lnk)\n",
        "  #Retro 45 page\n",
        "  for i in range(1,46):\n",
        "    lnk = \"https://pik.bg/%D1%82%D0%B5%D0%BC%D0%B0-cat104.html?page={}\".format(str(i))\n",
        "    retro_link.append(lnk)\n",
        "  #magazin 25 page\n",
        "  for i in range(1,23):\n",
        "    lnk = \"https://pik.bg/%D0%BF%D0%B0%D0%BF%D0%B0%D1%80%D0%B0%D1%86%D0%B8-cat41.html?page={}\".format(str(i))\n",
        "    magazin_link.append(lnk)\n",
        "  for i in range(1,4):\n",
        "    lnk = \"https://pik.bg/%D0%B8%D0%BD%D1%82%D0%B5%D1%80%D0%B2%D1%8E-cat44.html?page={}\".format(str(i))\n",
        "    magazin_link.append(lnk)\n",
        "  #secim 45 page\n",
        "  for i in range(1,46):\n",
        "    lnk = \"https://pik.bg/%D0%B8%D0%B7%D0%B1%D0%BE%D1%80%D0%B8-cat107.html?page={}\".format(str(i))\n",
        "    secim_link.append(lnk)\n",
        "  #video 45 page \n",
        "  for i in range(1,46):\n",
        "    lnk = \"https://pik.bg/%D0%B2%D0%B8%D0%B4%D0%B5%D0%BE-cat61.html?page={}\".format(str(i))\n",
        "    video_link.append(lnk)\n",
        "  #yemek 45 page\n",
        "  for i in range(1,46):\n",
        "    lnk = \"https://pik.bg/%D0%BB%D0%B0%D0%BA%D0%BE%D0%BC%D0%BD%D0%B8%D0%BA-cat65.html?page={}\".format(str(i))\n",
        "    yemek_link.append(lnk)"
      ],
      "execution_count": null,
      "outputs": []
    },
    {
      "cell_type": "code",
      "metadata": {
        "id": "j-5KbhpN62pe"
      },
      "source": [
        "date_creator()"
      ],
      "execution_count": null,
      "outputs": []
    },
    {
      "cell_type": "code",
      "metadata": {
        "id": "1EYh0c4ezK3v"
      },
      "source": [
        "print(len(bulgaristan_link))\n",
        "print(len(tepe_link))\n",
        "print(len(tema_link))\n",
        "print(len(dunya_link))\n",
        "print(len(spor_link))\n",
        "print(len(retro_link))\n",
        "print(len(magazin_link))\n",
        "print(len(video_link))\n",
        "print(len(secim_link))\n",
        "print(len(yemek_link))"
      ],
      "execution_count": null,
      "outputs": []
    },
    {
      "cell_type": "code",
      "metadata": {
        "id": "X_9JPR5V6LnL"
      },
      "source": [
        "print(bulgaristan_link)\n",
        "print(\"----------------------------\")\n",
        "print(tema_link)\n",
        "print(\"----------------------------\")\n",
        "print(tepe_link)\n",
        "print(\"----------------------------\")\n",
        "print(retro_link)\n",
        "print(\"----------------------------\")\n",
        "print(secim_link)\n",
        "print(\"----------------------------\")\n",
        "print(magazin_link)\n",
        "print(\"----------------------------\")\n",
        "print(yemek_link)\n",
        "print(\"----------------------------\")\n",
        "print(video_link)\n",
        "print(\"----------------------------\")\n",
        "print(spor_link)\n",
        "print(\"----------------------------\")\n",
        "print(dunya_link)"
      ],
      "execution_count": null,
      "outputs": []
    },
    {
      "cell_type": "code",
      "metadata": {
        "id": "OZolVD6U6q3L"
      },
      "source": [
        "def get_link_creator(url):\n",
        "  html = requests.get(url).content\n",
        "  soup = BeautifulSoup(html,\"html.parser\")\n",
        "  list = soup.find_all(\"div\",{\"class\":\"news-box-small left\"})\n",
        "  links = []\n",
        "  for i in list:\n",
        "    href = i.find(\"a\").get(\"href\")\n",
        "    links.append(href)\n",
        "  big_new = soup.find_all(\"div\",{\"class\":\"news-box-big left w100\"})\n",
        "  for i in big_new:\n",
        "    href2 = i.find(\"a\").get(\"href\")\n",
        "    links.append(href2)\n",
        "\n",
        "  with open(\"pik-Links.txt\",\"a\",encoding=\"utf-8\") as file:\n",
        "    for i in links:\n",
        "      file.write(i+\"\\n\")"
      ],
      "execution_count": null,
      "outputs": []
    },
    {
      "cell_type": "code",
      "metadata": {
        "id": "0FVmToAaAPQe"
      },
      "source": [
        "import concurrent\n",
        "t1=time.time()\n",
        "with concurrent.futures.ProcessPoolExecutor() as execut:\n",
        "  b_res=[execut.submit(get_link_creator,i.strip()) for i in bulgaristan_link]    # 10890 link \n",
        "print(time.time()-t1)\n",
        "\n",
        "t2=time.time()\n",
        "with concurrent.futures.ProcessPoolExecutor() as execut:\n",
        "  b_res=[execut.submit(get_link_creator,i.strip()) for i in tepe_link]         # 990 link \n",
        "print(time.time()-t2)\n",
        "\n",
        "t3=time.time()\n",
        "with concurrent.futures.ProcessPoolExecutor() as execut:\n",
        "  b_res=[execut.submit(get_link_creator,i.strip()) for i in tema_link]     # 990 link \n",
        "print(time.time()-t3)\n",
        "\n",
        "t4=time.time()\n",
        "with concurrent.futures.ProcessPoolExecutor() as execut:\n",
        "  b_res=[execut.submit(get_link_creator,i.strip()) for i in retro_link]        # 990 link \n",
        "print(time.time()-t4) \n",
        "\n",
        "t5=time.time()\n",
        "with concurrent.futures.ProcessPoolExecutor() as execut:\n",
        "  b_res=[execut.submit(get_link_creator,i.strip()) for i in spor_link]      # 1980 link \n",
        "print(time.time()-t5)\n",
        "\n",
        "t6=time.time()\n",
        "with concurrent.futures.ProcessPoolExecutor() as execut:\n",
        "  b_res=[execut.submit(get_link_creator,i.strip()) for i in dunya_link]     # 4950 link \n",
        "print(time.time()-t6)\n",
        "\n",
        "t7=time.time()\n",
        "with concurrent.futures.ProcessPoolExecutor() as execut:\n",
        "  b_res=[execut.submit(get_link_creator,i.strip()) for i in magazin_link]     # 528 link \n",
        "print(time.time()-t7)\n",
        "\n",
        "t8=time.time()\n",
        "with concurrent.futures.ProcessPoolExecutor() as execut:\n",
        "  b_res=[execut.submit(get_link_creator,i.strip()) for i in secim_link]          # 990 link \n",
        "print(time.time()-t8)\n",
        "\n",
        "t9=time.time()\n",
        "with concurrent.futures.ProcessPoolExecutor() as execut:\n",
        "  b_res=[execut.submit(get_link_creator,i.strip()) for i in video_link]    # 990 link \n",
        "print(time.time()-t9)\n",
        "\n",
        "t10=time.time()\n",
        "with concurrent.futures.ProcessPoolExecutor() as execut:\n",
        "  b_res=[execut.submit(get_link_creator,i.strip()) for i in yemek_link]    # 990 link \n",
        "print(time.time()-t10)"
      ],
      "execution_count": null,
      "outputs": []
    },
    {
      "cell_type": "code",
      "metadata": {
        "id": "cVpDE6v66vCV"
      },
      "source": [
        "total_link = []"
      ],
      "execution_count": null,
      "outputs": []
    },
    {
      "cell_type": "code",
      "metadata": {
        "id": "AhAz3anzCzDP"
      },
      "source": [
        "with open(\"pik-Links.txt\",'r',newline='') as f:\n",
        "  for i in f.readlines():    \n",
        "  # reader=csv.reader(f)\n",
        "    i.strip(\"\\n\")\n",
        "    total_link.append(i)"
      ],
      "execution_count": null,
      "outputs": []
    },
    {
      "cell_type": "code",
      "metadata": {
        "id": "noBuIm41P3i7"
      },
      "source": [
        "len(total_link)  # Toplam 21320 larda link olması gerek."
      ],
      "execution_count": null,
      "outputs": []
    },
    {
      "cell_type": "code",
      "metadata": {
        "id": "zGHw2dygDGVi"
      },
      "source": [
        "def creator(url):\n",
        "  html = requests.get(url).content\n",
        "  soup = BeautifulSoup(html,\"html.parser\")\n",
        "  title = soup.find(\"h2\",{\"class\":\"big-heading left w100 robotoSlab black bold fancy_bold_parts\"}).getText()\n",
        "  title = title.strip() # Title kısmı çalışıyor\n",
        "  date = soup.find(\"div\",{\"class\":\"news-time left black\"}).getText().strip(\"на\")   #Date Kısmı Çalışıyor\n",
        "  if date.endswith(\"часа\"):\n",
        "    today = datetime.now()\n",
        "    today = today.strftime('%d.%m.%Y')\n",
        "    date = today\n",
        "    date = date.strip(\"на \")\n",
        "    date = date.strip()\n",
        "  else:\n",
        "    date = date.strip(\"на \")\n",
        "    date = date.strip()\n",
        "  categori = soup.find(\"div\",{\"class\":\"top-news left w100\"}).find(\"a\").get(\"title\") # categori kısmı Çalışıyor\n",
        "  content = soup.find(\"div\",{\"class\":\"news-detail left w100\"}).find_all(\"p\")\n",
        "  content_string = \"\"\n",
        "  for i in content:\n",
        "    i=i.getText().replace(\" \",\" \")\n",
        "    z=\" \".join(i.split())\n",
        "    content_string += z\n",
        "  sentence = \"{} ; {} ; {} ; {} ; {}\".format(url,date,categori,title,content_string)\n",
        "  with open(\"pik-Cont.txt\",\"a\",encoding=\"utf-8\") as file:\n",
        "    file.write(sentence+\"\\n\")\n",
        "  "
      ],
      "execution_count": 83,
      "outputs": []
    },
    {
      "cell_type": "code",
      "metadata": {
        "id": "yw6Rg0rhKDO3"
      },
      "source": [
        "t1=time.time()\n",
        "with concurrent.futures.ProcessPoolExecutor() as execut:\n",
        "  b_res=[execut.submit(creator,i.strip()) for i in total_link]\n",
        "print(time.time()-t1)"
      ],
      "execution_count": null,
      "outputs": []
    }
  ]
}