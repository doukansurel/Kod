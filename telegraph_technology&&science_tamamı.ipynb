{
  "nbformat": 4,
  "nbformat_minor": 0,
  "metadata": {
    "colab": {
      "name": "telegraph_technology&&science_tamamı.ipynb",
      "provenance": [],
      "collapsed_sections": [],
      "authorship_tag": "ABX9TyPuvc1VlOP/mJkEnWjcnlvB",
      "include_colab_link": true
    },
    "kernelspec": {
      "name": "python3",
      "display_name": "Python 3"
    },
    "language_info": {
      "name": "python"
    }
  },
  "cells": [
    {
      "cell_type": "markdown",
      "metadata": {
        "id": "view-in-github",
        "colab_type": "text"
      },
      "source": [
        "<a href=\"https://colab.research.google.com/github/doukansurel/Kod/blob/main/telegraph_technology%26%26science_tamam%C4%B1.ipynb\" target=\"_parent\"><img src=\"https://colab.research.google.com/assets/colab-badge.svg\" alt=\"Open In Colab\"/></a>"
      ]
    },
    {
      "cell_type": "code",
      "source": [
        "!apt update\n",
        "!apt install chromium-chromedriver\n",
        "!pip install selenium"
      ],
      "metadata": {
        "id": "OnCHSuHK_1Lt"
      },
      "execution_count": null,
      "outputs": []
    },
    {
      "cell_type": "code",
      "source": [
        "import os\n",
        "import bs4\n",
        "import requests\n",
        "from bs4 import BeautifulSoup\n",
        "import pandas as pd\n",
        "import numpy as np\n",
        "import os\n",
        "import time\n",
        "import urllib.request\n",
        "import re\n",
        "import urllib3\n",
        "from pandas import DataFrame\n",
        "import csv\n",
        "import datetime\n",
        "from datetime import datetime, timedelta ,date"
      ],
      "metadata": {
        "id": "sYbveZKfKMny"
      },
      "execution_count": null,
      "outputs": []
    },
    {
      "cell_type": "code",
      "source": [
        "from selenium import webdriver\n",
        "options = webdriver.ChromeOptions()\n",
        "options.add_argument('--headless')\n",
        "options.add_argument('--no-sandbox')\n",
        "options.add_argument('--disable-dev-shm-usage')\n",
        "wd = webdriver.Chrome(options=options)"
      ],
      "metadata": {
        "id": "MuJvrzH7akS1"
      },
      "execution_count": null,
      "outputs": []
    },
    {
      "cell_type": "code",
      "source": [
        "!pip install kora -q\n",
        "from kora.selenium import wd\n",
        "from selenium.webdriver.common.keys import Keys"
      ],
      "metadata": {
        "id": "NO09Wc0J_2sv"
      },
      "execution_count": null,
      "outputs": []
    },
    {
      "cell_type": "code",
      "source": [
        "technology_page_link = []\n",
        "science_page_link = []"
      ],
      "metadata": {
        "id": "_mP8dTfjKV4G"
      },
      "execution_count": null,
      "outputs": []
    },
    {
      "cell_type": "code",
      "source": [
        "def date_creator():    \n",
        "  for i in range(0,222):\n",
        "    lnk = \"https://thetelegraph.newsbank.com/search?text=Science&content_added=&date_from=&date_to=&s_dlid=&s_ecproduct=SUB-FREE&s_ecprodtype=INSTANT&s_trackval=&s_siteloc=&s_referrer=&s_subterm=Subscription%20until%3A%2012/31/2080&s_docsbal=%20&s_subexpires=12/31/2080&s_docstart=&s_docsleft=&s_docsread=&s_username=freeusers&s_accountid=AC0121090715212929999&s_upgradeable=no&pub%5B0%5D=TELAL&page={}\".format(str(i))\n",
        "    science_page_link.append(lnk)\n",
        "  for i in range(0,214):\n",
        "    lnk = \"https://thetelegraph.newsbank.com/search?text=Technology&content_added=&date_from=&date_to=&s_dlid=&s_ecproduct=SUB-FREE&s_ecprodtype=INSTANT&s_trackval=&s_siteloc=&s_referrer=&s_subterm=Subscription%20until%3A%2012/31/2080&s_docsbal=%20&s_subexpires=12/31/2080&s_docstart=&s_docsleft=&s_docsread=&s_username=freeusers&s_accountid=AC0121090715212929999&s_upgradeable=no&pub%5B0%5D=TELAL&page={}\".format(str(i))\n",
        "    technology_page_link.append(lnk)"
      ],
      "metadata": {
        "id": "zl_x3qWZKXyn"
      },
      "execution_count": null,
      "outputs": []
    },
    {
      "cell_type": "code",
      "source": [
        "date_creator()"
      ],
      "metadata": {
        "id": "8dlXiAQ1Mq-n"
      },
      "execution_count": null,
      "outputs": []
    },
    {
      "cell_type": "code",
      "source": [
        "print(science_page_link)\n",
        "print(technology_page_link)"
      ],
      "metadata": {
        "id": "0eQDdCFmLrOs"
      },
      "execution_count": null,
      "outputs": []
    },
    {
      "cell_type": "code",
      "source": [
        "def technology_get_link_creator(url):\n",
        "  html = requests.get(url).content                                                          \n",
        "  soup = BeautifulSoup(html,\"html.parser\")\n",
        "  lnk_list = soup.find(\"div\",{\"class\":\"view-content\"}).find_all(\"div\",{\"class\":\"views-field views-field-text-6\"})\n",
        "  for i in lnk_list:\n",
        "    href = i.find(\"a\").get(\"href\")\n",
        "    if(href.startswith(\"https://thetelegraph.newsbank.com/\")):\n",
        "      pass\n",
        "    else: \n",
        "      href = \"https://thetelegraph.newsbank.com/\"+href\n",
        "    with open(\"telegraph_technology_Links.txt\",\"a\",encoding=\"utf-8\") as file :\n",
        "      file.write(href+\"\\n\")"
      ],
      "metadata": {
        "id": "awN-eAZ7MkB1"
      },
      "execution_count": null,
      "outputs": []
    },
    {
      "cell_type": "code",
      "execution_count": null,
      "metadata": {
        "id": "Nhv1BE80KCIy"
      },
      "outputs": [],
      "source": [
        "def science_get_link_creator(url):\n",
        "  html = requests.get(url).content                                                          \n",
        "  soup = BeautifulSoup(html,\"html.parser\")\n",
        "  lnk_list = soup.find(\"div\",{\"class\":\"view-content\"}).find_all(\"div\",{\"class\":\"views-field views-field-text-6\"})\n",
        "  for i in lnk_list:\n",
        "    href = i.find(\"a\").get(\"href\")\n",
        "    if(href.startswith(\"https://thetelegraph.newsbank.com/\")):\n",
        "      pass\n",
        "    else: \n",
        "      href = \"https://thetelegraph.newsbank.com/\"+href\n",
        "    with open(\"telegraph_science_Links.txt\",\"a\",encoding=\"utf-8\") as file :\n",
        "      file.write(href+\"\\n\")"
      ]
    },
    {
      "cell_type": "code",
      "source": [
        "import concurrent\n",
        "t1=time.time()\n",
        "with concurrent.futures.ProcessPoolExecutor() as execut:\n",
        "  b_res=[execut.submit(science_get_link_creator,i.strip()) for i in science_page_link]\n",
        "print(time.time()-t1)\n",
        "\n",
        "t2=time.time()\n",
        "with concurrent.futures.ProcessPoolExecutor() as execut:\n",
        "  b_res=[execut.submit(technology_get_link_creator,i.strip()) for i in technology_page_link]\n",
        "print(time.time()-t2)"
      ],
      "metadata": {
        "id": "Tk6if4lwO_6f"
      },
      "execution_count": null,
      "outputs": []
    },
    {
      "cell_type": "code",
      "source": [
        "technology_links = []\n",
        "science_links = []\n"
      ],
      "metadata": {
        "id": "4YBrN4DYx7Ki"
      },
      "execution_count": null,
      "outputs": []
    },
    {
      "cell_type": "code",
      "source": [
        "with open(\"telegraph_science_Links.txt\",'r',newline='') as f:\n",
        "  for i in f.readlines():    \n",
        "  # reader=csv.reader(f)\n",
        "    i = i.strip(\"\\n\")\n",
        "    science_links.append(i)\n",
        "\n",
        "with open(\"telegraph_technology_Links.txt\",'r',newline='') as f:\n",
        "  for i in f.readlines():    \n",
        "  # reader=csv.reader(f)\n",
        "    i = i.strip(\"\\n\")\n",
        "\n",
        "    technology_links.append(i)"
      ],
      "metadata": {
        "id": "IAXjbJMIxyov"
      },
      "execution_count": null,
      "outputs": []
    },
    {
      "cell_type": "code",
      "source": [
        "print(technology_links)\n",
        "print(science_links)"
      ],
      "metadata": {
        "id": "Zut5fK7VymWo"
      },
      "execution_count": null,
      "outputs": []
    },
    {
      "cell_type": "code",
      "source": [
        "def creator_science_content(url):\n",
        "  wd.get(url)\n",
        "  title = wd.find_element_by_xpath('//*[@id=\"nb-bootstrap-three-column-main-content\"]/div[3]/h1').text.strip()\n",
        "  content2 = wd.find_element_by_xpath('//*[@id=\"nb-asciiviewer-news\"]/div[4]').text.strip()\n",
        "  content = wd.find_element_by_xpath('//*[@id=\"nb-asciiviewer-news\"]/div[5]').text.strip().replace(\"\\n\",\"\")\n",
        "  all_content = content2 +content\n",
        "  date = url[-10:]\n",
        "  date= date.strip() \n",
        "  categori = \"Science\"\n",
        "  sentence = \"{} ; {} ; {} ; {} ; {}\".format(url,date,categori,title,all_content)\n",
        "  with open(\"telegraph_Science_Cont.txt\",\"a\",encoding=\"utf-8\") as file:\n",
        "    file.write(sentence +\"\\n\")"
      ],
      "metadata": {
        "id": "W6KXKUy3ysde"
      },
      "execution_count": null,
      "outputs": []
    },
    {
      "cell_type": "code",
      "source": [
        "def creator_technology_content(url): \n",
        "  wd.get(url)\n",
        "  title = wd.find_element_by_xpath('//*[@id=\"nb-bootstrap-three-column-main-content\"]/div[3]/h1').text.strip()\n",
        "  content2 = wd.find_element_by_xpath('//*[@id=\"nb-asciiviewer-news\"]/div[4]').text.strip()\n",
        "  content = wd.find_element_by_xpath('//*[@id=\"nb-asciiviewer-news\"]/div[5]').text.strip().replace(\"\\n\",\"\")\n",
        "  all_content = content2 +content\n",
        "  date = url[-10:]\n",
        "  date= date.strip()\n",
        "  categori = \"Technology\"\n",
        "  sentence = \"{} ; {} ; {} ; {} ; {}\".format(url,date,categori,title,all_content)\n",
        "  with open(\"telegraph_Technology_Cont.txt\",\"a\",encoding=\"utf-8\") as file:\n",
        "    file.write(sentence +\"\\n\")"
      ],
      "metadata": {
        "id": "u2RlatTI0GG7"
      },
      "execution_count": null,
      "outputs": []
    },
    {
      "cell_type": "code",
      "source": [
        "import concurrent\n",
        "t1=time.time()\n",
        "with concurrent.futures.ProcessPoolExecutor() as execut:\n",
        "  b_res=[execut.submit(creator_science_content,i.strip()) for i in science_links]\n",
        "print(time.time()-t1)\n",
        "\n",
        "t2=time.time()\n",
        "with concurrent.futures.ProcessPoolExecutor() as execut:\n",
        "  b_res=[execut.submit(creator_technology_content,i.strip()) for i in technology_links]\n",
        "print(time.time()-t2)"
      ],
      "metadata": {
        "id": "YtX9xn1uWQtI"
      },
      "execution_count": null,
      "outputs": []
    }
  ]
}